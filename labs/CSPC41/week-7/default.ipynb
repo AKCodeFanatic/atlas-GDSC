{
 "cells": [
  {
   "cell_type": "markdown",
   "id": "79b0e779-b468-442a-87f2-725b9c2c4b59",
   "metadata": {},
   "source": [
    "# Week 7 - 20th September, 2023\n",
    "\n",
    "## 7.1\n",
    "Use the csv/xls file assigned to you, build a Multiple Linear regression (MLR) model. If your input file has multiple outputs, build MLR model for each output separately. Select the features which are can be useful in building the model."
   ]
  },
  {
   "cell_type": "code",
   "execution_count": 2,
   "id": "b2e1b9e5-3c6a-4353-9f80-a90a39bf164e",
   "metadata": {},
   "outputs": [
    {
     "data": {
      "text/html": [
       "<div>\n",
       "<style scoped>\n",
       "    .dataframe tbody tr th:only-of-type {\n",
       "        vertical-align: middle;\n",
       "    }\n",
       "\n",
       "    .dataframe tbody tr th {\n",
       "        vertical-align: top;\n",
       "    }\n",
       "\n",
       "    .dataframe thead th {\n",
       "        text-align: right;\n",
       "    }\n",
       "</style>\n",
       "<table border=\"1\" class=\"dataframe\">\n",
       "  <thead>\n",
       "    <tr style=\"text-align: right;\">\n",
       "      <th></th>\n",
       "      <th>Sr</th>\n",
       "      <th>DSA</th>\n",
       "      <th>soft_skill</th>\n",
       "      <th>Bond-months</th>\n",
       "    </tr>\n",
       "  </thead>\n",
       "  <tbody>\n",
       "    <tr>\n",
       "      <th>0</th>\n",
       "      <td>1</td>\n",
       "      <td>8</td>\n",
       "      <td>6</td>\n",
       "      <td>8.0</td>\n",
       "    </tr>\n",
       "    <tr>\n",
       "      <th>1</th>\n",
       "      <td>2</td>\n",
       "      <td>6</td>\n",
       "      <td>7</td>\n",
       "      <td>9.0</td>\n",
       "    </tr>\n",
       "    <tr>\n",
       "      <th>2</th>\n",
       "      <td>3</td>\n",
       "      <td>5</td>\n",
       "      <td>8</td>\n",
       "      <td>8.5</td>\n",
       "    </tr>\n",
       "    <tr>\n",
       "      <th>3</th>\n",
       "      <td>4</td>\n",
       "      <td>9</td>\n",
       "      <td>9</td>\n",
       "      <td>0.5</td>\n",
       "    </tr>\n",
       "    <tr>\n",
       "      <th>4</th>\n",
       "      <td>5</td>\n",
       "      <td>9</td>\n",
       "      <td>5</td>\n",
       "      <td>8.5</td>\n",
       "    </tr>\n",
       "  </tbody>\n",
       "</table>\n",
       "</div>"
      ],
      "text/plain": [
       "   Sr  DSA  soft_skill  Bond-months\n",
       "0   1    8           6          8.0\n",
       "1   2    6           7          9.0\n",
       "2   3    5           8          8.5\n",
       "3   4    9           9          0.5\n",
       "4   5    9           5          8.5"
      ]
     },
     "execution_count": 2,
     "metadata": {},
     "output_type": "execute_result"
    }
   ],
   "source": [
    "import pandas as pd\n",
    "\n",
    "input_df = pd.read_csv('../pca-datasets/stud3.csv')\n",
    "input_df.head(5)"
   ]
  },
  {
   "cell_type": "markdown",
   "id": "e0acd220-0933-41a7-b6ff-6daf4b2231f6",
   "metadata": {},
   "source": [
    "First, we remove the serial number column through brute force analysis."
   ]
  },
  {
   "cell_type": "code",
   "execution_count": 3,
   "id": "c4e202eb-7b84-4a5e-9856-031f923961aa",
   "metadata": {},
   "outputs": [],
   "source": [
    "filtered_df = input_df.drop(['Sr'], axis=1)"
   ]
  },
  {
   "cell_type": "markdown",
   "id": "da7c60a6-f847-4af8-aaec-1675d3f0be9b",
   "metadata": {},
   "source": [
    "Let's also store the input features and output features in `X` and `Y` dataframes respectively.\n",
    "\n",
    "To estimate the regression coefficient β₀, a constant term of 1 needs to be added as a separate column to `X`. As the value of the columns remains same across all samples, the parameter estimated for this feature or column will be the intercept term."
   ]
  },
  {
   "cell_type": "code",
   "execution_count": 4,
   "id": "903b1041-0b83-49a7-9ed8-bb53a6d49353",
   "metadata": {},
   "outputs": [],
   "source": [
    "import statsmodels.api as sm\n",
    "input_feature_df = filtered_df.drop(['Bond-months'], axis=1)\n",
    "X = sm.add_constant(input_feature_df)\n",
    "Y = filtered_df['Bond-months']"
   ]
  },
  {
   "cell_type": "markdown",
   "id": "340e9099-8be6-459f-a3e1-e137c98764d3",
   "metadata": {},
   "source": [
    "We will store the columns that are required for building the final model:"
   ]
  },
  {
   "cell_type": "code",
   "execution_count": 5,
   "id": "35ab9407-49bf-43e1-953e-424328fdb56a",
   "metadata": {},
   "outputs": [
    {
     "data": {
      "text/plain": [
       "Index(['DSA', 'soft_skill'], dtype='object')"
      ]
     },
     "execution_count": 5,
     "metadata": {},
     "output_type": "execute_result"
    }
   ],
   "source": [
    "X_features = input_feature_df.columns\n",
    "X_features"
   ]
  },
  {
   "cell_type": "markdown",
   "id": "bc69b289-93b4-42e4-a44d-bdc1a8de3423",
   "metadata": {},
   "source": [
    "Now, we split the dataset into training and testing datasets."
   ]
  },
  {
   "cell_type": "code",
   "execution_count": 6,
   "id": "270bd0e1-8d61-4a38-a94f-6a41656c71c9",
   "metadata": {},
   "outputs": [],
   "source": [
    "from sklearn.model_selection import train_test_split\n",
    "\n",
    "train_x, test_x, train_y, test_y = train_test_split(X, Y, train_size=0.8, random_state=100)"
   ]
  },
  {
   "cell_type": "markdown",
   "id": "55cc76eb-3555-49e7-9522-15c72ff8465b",
   "metadata": {},
   "source": [
    "`train_size` of 0.8 implies that 80% of the data is used for training the model and the remaining 20% is used for validating the model."
   ]
  },
  {
   "cell_type": "code",
   "execution_count": 7,
   "id": "560d0049-2942-4faa-967a-cbf9890a56f4",
   "metadata": {},
   "outputs": [
    {
     "data": {
      "text/html": [
       "<table class=\"simpletable\">\n",
       "<tr>\n",
       "        <td>Model:</td>               <td>OLS</td>         <td>Adj. R-squared:</td>      <td>1.000</td>  \n",
       "</tr>\n",
       "<tr>\n",
       "  <td>Dependent Variable:</td>    <td>Bond-months</td>          <td>AIC:</td>         <td>-1575.0130</td>\n",
       "</tr>\n",
       "<tr>\n",
       "         <td>Date:</td>        <td>2023-09-20 12:05</td>        <td>BIC:</td>         <td>-1571.3563</td>\n",
       "</tr>\n",
       "<tr>\n",
       "   <td>No. Observations:</td>         <td>25</td>          <td>Log-Likelihood:</td>     <td>790.51</td>  \n",
       "</tr>\n",
       "<tr>\n",
       "       <td>Df Model:</td>              <td>2</td>           <td>F-statistic:</td>      <td>2.343e+31</td>\n",
       "</tr>\n",
       "<tr>\n",
       "     <td>Df Residuals:</td>           <td>22</td>        <td>Prob (F-statistic):</td>    <td>0.00</td>   \n",
       "</tr>\n",
       "<tr>\n",
       "      <td>R-squared:</td>            <td>1.000</td>            <td>Scale:</td>        <td>2.2805e-29</td>\n",
       "</tr>\n",
       "</table>\n",
       "<table class=\"simpletable\">\n",
       "<tr>\n",
       "       <td></td>       <th>Coef.</th>  <th>Std.Err.</th>            <th>t</th>            <th>P>|t|</th> <th>[0.025</th>  <th>0.975]</th> \n",
       "</tr>\n",
       "<tr>\n",
       "  <th>const</th>      <td>32.0000</td>  <td>0.0000</td>  <td>10022216081788090.0000</td> <td>0.0000</td> <td>32.0000</td> <td>32.0000</td>\n",
       "</tr>\n",
       "<tr>\n",
       "  <th>DSA</th>        <td>-1.5000</td>  <td>0.0000</td>  <td>-3332502234315658.5000</td> <td>0.0000</td> <td>-1.5000</td> <td>-1.5000</td>\n",
       "</tr>\n",
       "<tr>\n",
       "  <th>soft_skill</th> <td>-2.0000</td>  <td>0.0000</td>  <td>-3116359359975181.0000</td> <td>0.0000</td> <td>-2.0000</td> <td>-2.0000</td>\n",
       "</tr>\n",
       "</table>\n",
       "<table class=\"simpletable\">\n",
       "<tr>\n",
       "     <td>Omnibus:</td>     <td>1.900</td>  <td>Durbin-Watson:</td>   <td>1.038</td>\n",
       "</tr>\n",
       "<tr>\n",
       "  <td>Prob(Omnibus):</td>  <td>0.387</td> <td>Jarque-Bera (JB):</td> <td>1.429</td>\n",
       "</tr>\n",
       "<tr>\n",
       "       <td>Skew:</td>     <td>-0.389</td>     <td>Prob(JB):</td>     <td>0.489</td>\n",
       "</tr>\n",
       "<tr>\n",
       "     <td>Kurtosis:</td>    <td>2.124</td>  <td>Condition No.:</td>    <td>29</td>  \n",
       "</tr>\n",
       "</table><br/>\n",
       "Notes:<br/>\n",
       "[1] Standard Errors assume that the covariance matrix of the errors is correctly specified."
      ],
      "text/latex": [
       "\\begin{table}\n",
       "\\caption{Results: Ordinary least squares}\n",
       "\\label{}\n",
       "\\begin{center}\n",
       "\\begin{tabular}{llll}\n",
       "\\hline\n",
       "Model:              & OLS              & Adj. R-squared:     & 1.000       \\\\\n",
       "Dependent Variable: & Bond-months      & AIC:                & -1575.0130  \\\\\n",
       "Date:               & 2023-09-20 12:05 & BIC:                & -1571.3563  \\\\\n",
       "No. Observations:   & 25               & Log-Likelihood:     & 790.51      \\\\\n",
       "Df Model:           & 2                & F-statistic:        & 2.343e+31   \\\\\n",
       "Df Residuals:       & 22               & Prob (F-statistic): & 0.00        \\\\\n",
       "R-squared:          & 1.000            & Scale:              & 2.2805e-29  \\\\\n",
       "\\hline\n",
       "\\end{tabular}\n",
       "\\end{center}\n",
       "\n",
       "\\begin{center}\n",
       "\\begin{tabular}{lrrrrrr}\n",
       "\\hline\n",
       "            &   Coef. & Std.Err. &                      t & P$> |$t$|$ &  [0.025 &  0.975]  \\\\\n",
       "\\hline\n",
       "const       & 32.0000 &   0.0000 & 10022216081788090.0000 &      0.0000 & 32.0000 & 32.0000  \\\\\n",
       "DSA         & -1.5000 &   0.0000 & -3332502234315658.5000 &      0.0000 & -1.5000 & -1.5000  \\\\\n",
       "soft\\_skill & -2.0000 &   0.0000 & -3116359359975181.0000 &      0.0000 & -2.0000 & -2.0000  \\\\\n",
       "\\hline\n",
       "\\end{tabular}\n",
       "\\end{center}\n",
       "\n",
       "\\begin{center}\n",
       "\\begin{tabular}{llll}\n",
       "\\hline\n",
       "Omnibus:       & 1.900  & Durbin-Watson:    & 1.038  \\\\\n",
       "Prob(Omnibus): & 0.387  & Jarque-Bera (JB): & 1.429  \\\\\n",
       "Skew:          & -0.389 & Prob(JB):         & 0.489  \\\\\n",
       "Kurtosis:      & 2.124  & Condition No.:    & 29     \\\\\n",
       "\\hline\n",
       "\\end{tabular}\n",
       "\\end{center}\n",
       "\\end{table}\n",
       "\\bigskip\n",
       "Notes: \\newline \n",
       "[1] Standard Errors assume that the covariance matrix of the errors is correctly specified."
      ],
      "text/plain": [
       "<class 'statsmodels.iolib.summary2.Summary'>\n",
       "\"\"\"\n",
       "                     Results: Ordinary least squares\n",
       "=========================================================================\n",
       "Model:                OLS                Adj. R-squared:       1.000     \n",
       "Dependent Variable:   Bond-months        AIC:                  -1575.0130\n",
       "Date:                 2023-09-20 12:05   BIC:                  -1571.3563\n",
       "No. Observations:     25                 Log-Likelihood:       790.51    \n",
       "Df Model:             2                  F-statistic:          2.343e+31 \n",
       "Df Residuals:         22                 Prob (F-statistic):   0.00      \n",
       "R-squared:            1.000              Scale:                2.2805e-29\n",
       "-------------------------------------------------------------------------\n",
       "            Coef.  Std.Err.           t            P>|t|   [0.025  0.975]\n",
       "-------------------------------------------------------------------------\n",
       "const      32.0000   0.0000 10022216081788090.0000 0.0000 32.0000 32.0000\n",
       "DSA        -1.5000   0.0000 -3332502234315658.5000 0.0000 -1.5000 -1.5000\n",
       "soft_skill -2.0000   0.0000 -3116359359975181.0000 0.0000 -2.0000 -2.0000\n",
       "-------------------------------------------------------------------------\n",
       "Omnibus:                 1.900           Durbin-Watson:             1.038\n",
       "Prob(Omnibus):           0.387           Jarque-Bera (JB):          1.429\n",
       "Skew:                    -0.389          Prob(JB):                  0.489\n",
       "Kurtosis:                2.124           Condition No.:             29   \n",
       "=========================================================================\n",
       "Notes:\n",
       "[1] Standard Errors assume that the covariance matrix of the errors is\n",
       "correctly specified.\n",
       "\"\"\""
      ]
     },
     "execution_count": 7,
     "metadata": {},
     "output_type": "execute_result"
    }
   ],
   "source": [
    "student_model = sm.OLS(train_y, train_x).fit()\n",
    "student_model.summary2()"
   ]
  },
  {
   "cell_type": "markdown",
   "id": "86c5fe29-fd69-4803-adad-da7a5cc611ba",
   "metadata": {},
   "source": [
    "### Calculation of Variance Inflation Factor"
   ]
  },
  {
   "cell_type": "code",
   "execution_count": 8,
   "id": "96b426e2-c997-44f1-8ab1-e1788e851c02",
   "metadata": {},
   "outputs": [],
   "source": [
    "from statsmodels.stats.outliers_influence import variance_inflation_factor\n",
    "\n",
    "def get_vi_factors(X):\n",
    "    X_matrix = X.values\n",
    "    vif = [ variance_inflation_factor(X_matrix, i) for i in range(X_matrix.shape[1])]\n",
    "    vi_factors = pd.DataFrame()\n",
    "    vi_factors['column'] = X.columns\n",
    "    vi_factors['VIF'] = vif\n",
    "    return vi_factors"
   ]
  },
  {
   "cell_type": "code",
   "execution_count": 9,
   "id": "7052b8eb-7cc9-4807-8e53-719838fbee18",
   "metadata": {},
   "outputs": [
    {
     "data": {
      "text/html": [
       "<div>\n",
       "<style scoped>\n",
       "    .dataframe tbody tr th:only-of-type {\n",
       "        vertical-align: middle;\n",
       "    }\n",
       "\n",
       "    .dataframe tbody tr th {\n",
       "        vertical-align: top;\n",
       "    }\n",
       "\n",
       "    .dataframe thead th {\n",
       "        text-align: right;\n",
       "    }\n",
       "</style>\n",
       "<table border=\"1\" class=\"dataframe\">\n",
       "  <thead>\n",
       "    <tr style=\"text-align: right;\">\n",
       "      <th></th>\n",
       "      <th>column</th>\n",
       "      <th>VIF</th>\n",
       "    </tr>\n",
       "  </thead>\n",
       "  <tbody>\n",
       "    <tr>\n",
       "      <th>0</th>\n",
       "      <td>DSA</td>\n",
       "      <td>7.733768</td>\n",
       "    </tr>\n",
       "    <tr>\n",
       "      <th>1</th>\n",
       "      <td>soft_skill</td>\n",
       "      <td>7.733768</td>\n",
       "    </tr>\n",
       "  </tbody>\n",
       "</table>\n",
       "</div>"
      ],
      "text/plain": [
       "       column       VIF\n",
       "0         DSA  7.733768\n",
       "1  soft_skill  7.733768"
      ]
     },
     "execution_count": 9,
     "metadata": {},
     "output_type": "execute_result"
    }
   ],
   "source": [
    "vi_factors = get_vi_factors(X[X_features])\n",
    "vi_factors"
   ]
  },
  {
   "cell_type": "markdown",
   "id": "782e4460-bb30-481c-ba26-138dd38e8d51",
   "metadata": {},
   "source": [
    "### Checking correlation of columns with large VIFs"
   ]
  },
  {
   "cell_type": "code",
   "execution_count": 12,
   "id": "a3b05be1-863f-4bea-9629-f24a3726c69e",
   "metadata": {},
   "outputs": [
    {
     "data": {
      "text/plain": [
       "0           DSA\n",
       "1    soft_skill\n",
       "Name: column, dtype: object"
      ]
     },
     "execution_count": 12,
     "metadata": {},
     "output_type": "execute_result"
    }
   ],
   "source": [
    "columns_with_large_vif = vi_factors[vi_factors.VIF > 4].column\n",
    "columns_with_large_vif"
   ]
  },
  {
   "cell_type": "markdown",
   "id": "9f388614-5fcf-41ef-a9aa-b74b954b5010",
   "metadata": {},
   "source": [
    "As we can see, both of our input columns have large VIF"
   ]
  },
  {
   "cell_type": "markdown",
   "id": "efed837e-5e64-433c-af1b-c840148fb1d3",
   "metadata": {},
   "source": [
    "## 7.2\n",
    "Among all input features, which features have symptoms of multi-collinearity and need to be removed from the model? After such removals, build the model again with reduced features and find its coefficients and R-square value."
   ]
  },
  {
   "cell_type": "code",
   "execution_count": 15,
   "id": "0bb1b3d3-320b-4441-b664-e3ce86618dae",
   "metadata": {},
   "outputs": [
    {
     "data": {
      "text/plain": [
       "Text(0.5, 1.0, 'Heatmap depicting correlation between features')"
      ]
     },
     "execution_count": 15,
     "metadata": {},
     "output_type": "execute_result"
    },
    {
     "data": {
      "image/png": "[encoded data removed]",
      "text/plain": [
       "<Figure size 400x300 with 2 Axes>"
      ]
     },
     "metadata": {},
     "output_type": "display_data"
    }
   ],
   "source": [
    "import seaborn as sn\n",
    "import matplotlib.pyplot as plt\n",
    "\n",
    "plt.figure(figsize = (4, 3))\n",
    "sn.heatmap(X[columns_with_large_vif].corr(), annot = True)\n",
    "plt.title(\"Heatmap depicting correlation between features\")"
   ]
  },
  {
   "cell_type": "markdown",
   "id": "b128bdb7-ce2e-4fdb-9fca-e8ef3cf18394",
   "metadata": {},
   "source": [
    "As we can see, the above heatmap shows that both our input features show symptoms of multi-collinearity. We will remove only one of them and build an SLR (MLR with one column technically) model"
   ]
  },
  {
   "cell_type": "markdown",
   "id": "1c763029-3a76-4277-a626-7d6ac6d7b3cc",
   "metadata": {},
   "source": [
    "### Let's first do it for DSA:"
   ]
  },
  {
   "cell_type": "code",
   "execution_count": 20,
   "id": "fb308757-44c9-42d7-9129-93d12c4c729e",
   "metadata": {},
   "outputs": [],
   "source": [
    "import statsmodels.api as sm\n",
    "input_feature_df = filtered_df.drop(['Bond-months'], axis=1)\n",
    "X_feature_1 = sm.add_constant(filtered_df['DSA'])"
   ]
  },
  {
   "cell_type": "code",
   "execution_count": 22,
   "id": "55dde8dd-94b5-4072-9968-692927fb6079",
   "metadata": {},
   "outputs": [],
   "source": [
    "from sklearn.model_selection import train_test_split\n",
    "\n",
    "train_x_f1, test_x_f1, train_y_f1, test_y_f1 = train_test_split(X_feature_1, Y, train_size=0.8, random_state=100)"
   ]
  },
  {
   "cell_type": "code",
   "execution_count": 23,
   "id": "90a83462-0945-4605-b940-853f5df2684c",
   "metadata": {},
   "outputs": [
    {
     "data": {
      "text/html": [
       "<table class=\"simpletable\">\n",
       "<tr>\n",
       "        <td>Model:</td>               <td>OLS</td>         <td>Adj. R-squared:</td>     <td>0.784</td> \n",
       "</tr>\n",
       "<tr>\n",
       "  <td>Dependent Variable:</td>    <td>Bond-months</td>          <td>AIC:</td>         <td>129.4831</td>\n",
       "</tr>\n",
       "<tr>\n",
       "         <td>Date:</td>        <td>2023-09-20 12:20</td>        <td>BIC:</td>         <td>131.9208</td>\n",
       "</tr>\n",
       "<tr>\n",
       "   <td>No. Observations:</td>         <td>25</td>          <td>Log-Likelihood:</td>    <td>-62.742</td>\n",
       "</tr>\n",
       "<tr>\n",
       "       <td>Df Model:</td>              <td>1</td>           <td>F-statistic:</td>       <td>87.98</td> \n",
       "</tr>\n",
       "<tr>\n",
       "     <td>Df Residuals:</td>           <td>23</td>        <td>Prob (F-statistic):</td> <td>2.52e-09</td>\n",
       "</tr>\n",
       "<tr>\n",
       "      <td>R-squared:</td>            <td>0.793</td>            <td>Scale:</td>         <td>9.6295</td> \n",
       "</tr>\n",
       "</table>\n",
       "<table class=\"simpletable\">\n",
       "<tr>\n",
       "    <td></td>     <th>Coef.</th>  <th>Std.Err.</th>    <th>t</th>     <th>P>|t|</th> <th>[0.025</th>  <th>0.975]</th> \n",
       "</tr>\n",
       "<tr>\n",
       "  <th>const</th> <td>25.5292</td>  <td>1.5761</td>  <td>16.1974</td> <td>0.0000</td> <td>22.2687</td> <td>28.7897</td>\n",
       "</tr>\n",
       "<tr>\n",
       "  <th>DSA</th>   <td>-2.2801</td>  <td>0.2431</td>  <td>-9.3797</td> <td>0.0000</td> <td>-2.7829</td> <td>-1.7772</td>\n",
       "</tr>\n",
       "</table>\n",
       "<table class=\"simpletable\">\n",
       "<tr>\n",
       "     <td>Omnibus:</td>     <td>1.725</td>  <td>Durbin-Watson:</td>   <td>2.254</td>\n",
       "</tr>\n",
       "<tr>\n",
       "  <td>Prob(Omnibus):</td>  <td>0.422</td> <td>Jarque-Bera (JB):</td> <td>1.224</td>\n",
       "</tr>\n",
       "<tr>\n",
       "       <td>Skew:</td>     <td>-0.294</td>     <td>Prob(JB):</td>     <td>0.542</td>\n",
       "</tr>\n",
       "<tr>\n",
       "     <td>Kurtosis:</td>    <td>2.090</td>  <td>Condition No.:</td>    <td>17</td>  \n",
       "</tr>\n",
       "</table><br/>\n",
       "Notes:<br/>\n",
       "[1] Standard Errors assume that the covariance matrix of the errors is correctly specified."
      ],
      "text/latex": [
       "\\begin{table}\n",
       "\\caption{Results: Ordinary least squares}\n",
       "\\label{}\n",
       "\\begin{center}\n",
       "\\begin{tabular}{llll}\n",
       "\\hline\n",
       "Model:              & OLS              & Adj. R-squared:     & 0.784     \\\\\n",
       "Dependent Variable: & Bond-months      & AIC:                & 129.4831  \\\\\n",
       "Date:               & 2023-09-20 12:20 & BIC:                & 131.9208  \\\\\n",
       "No. Observations:   & 25               & Log-Likelihood:     & -62.742   \\\\\n",
       "Df Model:           & 1                & F-statistic:        & 87.98     \\\\\n",
       "Df Residuals:       & 23               & Prob (F-statistic): & 2.52e-09  \\\\\n",
       "R-squared:          & 0.793            & Scale:              & 9.6295    \\\\\n",
       "\\hline\n",
       "\\end{tabular}\n",
       "\\end{center}\n",
       "\n",
       "\\begin{center}\n",
       "\\begin{tabular}{lrrrrrr}\n",
       "\\hline\n",
       "      &   Coef. & Std.Err. &       t & P$> |$t$|$ &  [0.025 &  0.975]  \\\\\n",
       "\\hline\n",
       "const & 25.5292 &   1.5761 & 16.1974 &      0.0000 & 22.2687 & 28.7897  \\\\\n",
       "DSA   & -2.2801 &   0.2431 & -9.3797 &      0.0000 & -2.7829 & -1.7772  \\\\\n",
       "\\hline\n",
       "\\end{tabular}\n",
       "\\end{center}\n",
       "\n",
       "\\begin{center}\n",
       "\\begin{tabular}{llll}\n",
       "\\hline\n",
       "Omnibus:       & 1.725  & Durbin-Watson:    & 2.254  \\\\\n",
       "Prob(Omnibus): & 0.422  & Jarque-Bera (JB): & 1.224  \\\\\n",
       "Skew:          & -0.294 & Prob(JB):         & 0.542  \\\\\n",
       "Kurtosis:      & 2.090  & Condition No.:    & 17     \\\\\n",
       "\\hline\n",
       "\\end{tabular}\n",
       "\\end{center}\n",
       "\\end{table}\n",
       "\\bigskip\n",
       "Notes: \\newline \n",
       "[1] Standard Errors assume that the covariance matrix of the errors is correctly specified."
      ],
      "text/plain": [
       "<class 'statsmodels.iolib.summary2.Summary'>\n",
       "\"\"\"\n",
       "                 Results: Ordinary least squares\n",
       "=================================================================\n",
       "Model:              OLS              Adj. R-squared:     0.784   \n",
       "Dependent Variable: Bond-months      AIC:                129.4831\n",
       "Date:               2023-09-20 12:20 BIC:                131.9208\n",
       "No. Observations:   25               Log-Likelihood:     -62.742 \n",
       "Df Model:           1                F-statistic:        87.98   \n",
       "Df Residuals:       23               Prob (F-statistic): 2.52e-09\n",
       "R-squared:          0.793            Scale:              9.6295  \n",
       "-------------------------------------------------------------------\n",
       "           Coef.    Std.Err.      t      P>|t|     [0.025    0.975]\n",
       "-------------------------------------------------------------------\n",
       "const     25.5292     1.5761   16.1974   0.0000   22.2687   28.7897\n",
       "DSA       -2.2801     0.2431   -9.3797   0.0000   -2.7829   -1.7772\n",
       "-----------------------------------------------------------------\n",
       "Omnibus:               1.725        Durbin-Watson:          2.254\n",
       "Prob(Omnibus):         0.422        Jarque-Bera (JB):       1.224\n",
       "Skew:                  -0.294       Prob(JB):               0.542\n",
       "Kurtosis:              2.090        Condition No.:          17   \n",
       "=================================================================\n",
       "Notes:\n",
       "[1] Standard Errors assume that the covariance matrix of the\n",
       "errors is correctly specified.\n",
       "\"\"\""
      ]
     },
     "execution_count": 23,
     "metadata": {},
     "output_type": "execute_result"
    }
   ],
   "source": [
    "student_model_dsa = sm.OLS(train_y_f1, train_x_f1).fit()\n",
    "student_model_dsa.summary2()"
   ]
  },
  {
   "cell_type": "markdown",
   "id": "f120d246-fe6e-4397-adaa-d80da7c17718",
   "metadata": {},
   "source": [
    "### Now let's do for soft skills"
   ]
  },
  {
   "cell_type": "code",
   "execution_count": 25,
   "id": "fb1eabfb-d454-4a6e-9fff-669ca8d9b5ca",
   "metadata": {},
   "outputs": [],
   "source": [
    "import statsmodels.api as sm\n",
    "input_feature_df = filtered_df.drop(['Bond-months'], axis=1)\n",
    "X_feature_2 = sm.add_constant(filtered_df['soft_skill'])"
   ]
  },
  {
   "cell_type": "code",
   "execution_count": 26,
   "id": "bd85299f-840a-4b51-aee5-6c19aca491d4",
   "metadata": {},
   "outputs": [],
   "source": [
    "from sklearn.model_selection import train_test_split\n",
    "\n",
    "train_x_f2, test_x_f2, train_y_f2, test_y_f2 = train_test_split(X_feature_2, Y, train_size=0.8, random_state=100)"
   ]
  },
  {
   "cell_type": "code",
   "execution_count": 27,
   "id": "c82f92ef-9e0a-4217-bb17-67f683cd5267",
   "metadata": {},
   "outputs": [
    {
     "data": {
      "text/html": [
       "<table class=\"simpletable\">\n",
       "<tr>\n",
       "        <td>Model:</td>               <td>OLS</td>         <td>Adj. R-squared:</td>     <td>0.753</td> \n",
       "</tr>\n",
       "<tr>\n",
       "  <td>Dependent Variable:</td>    <td>Bond-months</td>          <td>AIC:</td>         <td>132.8360</td>\n",
       "</tr>\n",
       "<tr>\n",
       "         <td>Date:</td>        <td>2023-09-20 12:22</td>        <td>BIC:</td>         <td>135.2737</td>\n",
       "</tr>\n",
       "<tr>\n",
       "   <td>No. Observations:</td>         <td>25</td>          <td>Log-Likelihood:</td>    <td>-64.418</td>\n",
       "</tr>\n",
       "<tr>\n",
       "       <td>Df Model:</td>              <td>1</td>           <td>F-statistic:</td>       <td>74.05</td> \n",
       "</tr>\n",
       "<tr>\n",
       "     <td>Df Residuals:</td>           <td>23</td>        <td>Prob (F-statistic):</td> <td>1.20e-08</td>\n",
       "</tr>\n",
       "<tr>\n",
       "      <td>R-squared:</td>            <td>0.763</td>            <td>Scale:</td>         <td>11.012</td> \n",
       "</tr>\n",
       "</table>\n",
       "<table class=\"simpletable\">\n",
       "<tr>\n",
       "       <td></td>       <th>Coef.</th>  <th>Std.Err.</th>    <th>t</th>     <th>P>|t|</th> <th>[0.025</th>  <th>0.975]</th> \n",
       "</tr>\n",
       "<tr>\n",
       "  <th>const</th>      <td>29.6729</td>  <td>2.1650</td>  <td>13.7060</td> <td>0.0000</td> <td>25.1943</td> <td>34.1515</td>\n",
       "</tr>\n",
       "<tr>\n",
       "  <th>soft_skill</th> <td>-3.1894</td>  <td>0.3706</td>  <td>-8.6052</td> <td>0.0000</td> <td>-3.9561</td> <td>-2.4227</td>\n",
       "</tr>\n",
       "</table>\n",
       "<table class=\"simpletable\">\n",
       "<tr>\n",
       "     <td>Omnibus:</td>    <td>2.641</td>  <td>Durbin-Watson:</td>   <td>2.053</td>\n",
       "</tr>\n",
       "<tr>\n",
       "  <td>Prob(Omnibus):</td> <td>0.267</td> <td>Jarque-Bera (JB):</td> <td>2.276</td>\n",
       "</tr>\n",
       "<tr>\n",
       "       <td>Skew:</td>     <td>0.662</td>     <td>Prob(JB):</td>     <td>0.321</td>\n",
       "</tr>\n",
       "<tr>\n",
       "     <td>Kurtosis:</td>   <td>2.342</td>  <td>Condition No.:</td>    <td>20</td>  \n",
       "</tr>\n",
       "</table><br/>\n",
       "Notes:<br/>\n",
       "[1] Standard Errors assume that the covariance matrix of the errors is correctly specified."
      ],
      "text/latex": [
       "\\begin{table}\n",
       "\\caption{Results: Ordinary least squares}\n",
       "\\label{}\n",
       "\\begin{center}\n",
       "\\begin{tabular}{llll}\n",
       "\\hline\n",
       "Model:              & OLS              & Adj. R-squared:     & 0.753     \\\\\n",
       "Dependent Variable: & Bond-months      & AIC:                & 132.8360  \\\\\n",
       "Date:               & 2023-09-20 12:22 & BIC:                & 135.2737  \\\\\n",
       "No. Observations:   & 25               & Log-Likelihood:     & -64.418   \\\\\n",
       "Df Model:           & 1                & F-statistic:        & 74.05     \\\\\n",
       "Df Residuals:       & 23               & Prob (F-statistic): & 1.20e-08  \\\\\n",
       "R-squared:          & 0.763            & Scale:              & 11.012    \\\\\n",
       "\\hline\n",
       "\\end{tabular}\n",
       "\\end{center}\n",
       "\n",
       "\\begin{center}\n",
       "\\begin{tabular}{lrrrrrr}\n",
       "\\hline\n",
       "            &   Coef. & Std.Err. &       t & P$> |$t$|$ &  [0.025 &  0.975]  \\\\\n",
       "\\hline\n",
       "const       & 29.6729 &   2.1650 & 13.7060 &      0.0000 & 25.1943 & 34.1515  \\\\\n",
       "soft\\_skill & -3.1894 &   0.3706 & -8.6052 &      0.0000 & -3.9561 & -2.4227  \\\\\n",
       "\\hline\n",
       "\\end{tabular}\n",
       "\\end{center}\n",
       "\n",
       "\\begin{center}\n",
       "\\begin{tabular}{llll}\n",
       "\\hline\n",
       "Omnibus:       & 2.641 & Durbin-Watson:    & 2.053  \\\\\n",
       "Prob(Omnibus): & 0.267 & Jarque-Bera (JB): & 2.276  \\\\\n",
       "Skew:          & 0.662 & Prob(JB):         & 0.321  \\\\\n",
       "Kurtosis:      & 2.342 & Condition No.:    & 20     \\\\\n",
       "\\hline\n",
       "\\end{tabular}\n",
       "\\end{center}\n",
       "\\end{table}\n",
       "\\bigskip\n",
       "Notes: \\newline \n",
       "[1] Standard Errors assume that the covariance matrix of the errors is correctly specified."
      ],
      "text/plain": [
       "<class 'statsmodels.iolib.summary2.Summary'>\n",
       "\"\"\"\n",
       "                 Results: Ordinary least squares\n",
       "=================================================================\n",
       "Model:              OLS              Adj. R-squared:     0.753   \n",
       "Dependent Variable: Bond-months      AIC:                132.8360\n",
       "Date:               2023-09-20 12:22 BIC:                135.2737\n",
       "No. Observations:   25               Log-Likelihood:     -64.418 \n",
       "Df Model:           1                F-statistic:        74.05   \n",
       "Df Residuals:       23               Prob (F-statistic): 1.20e-08\n",
       "R-squared:          0.763            Scale:              11.012  \n",
       "------------------------------------------------------------------\n",
       "               Coef.   Std.Err.     t     P>|t|    [0.025   0.975]\n",
       "------------------------------------------------------------------\n",
       "const         29.6729    2.1650  13.7060  0.0000  25.1943  34.1515\n",
       "soft_skill    -3.1894    0.3706  -8.6052  0.0000  -3.9561  -2.4227\n",
       "-----------------------------------------------------------------\n",
       "Omnibus:              2.641        Durbin-Watson:           2.053\n",
       "Prob(Omnibus):        0.267        Jarque-Bera (JB):        2.276\n",
       "Skew:                 0.662        Prob(JB):                0.321\n",
       "Kurtosis:             2.342        Condition No.:           20   \n",
       "=================================================================\n",
       "Notes:\n",
       "[1] Standard Errors assume that the covariance matrix of the\n",
       "errors is correctly specified.\n",
       "\"\"\""
      ]
     },
     "execution_count": 27,
     "metadata": {},
     "output_type": "execute_result"
    }
   ],
   "source": [
    "student_model_dsa = sm.OLS(train_y_f2, train_x_f2).fit()\n",
    "student_model_dsa.summary2()"
   ]
  },
  {
   "cell_type": "markdown",
   "id": "43db5ba9-a433-4a05-b9ab-0baddc63b98a",
   "metadata": {},
   "source": [
    "## Analysis\n",
    "\n",
    "Both SLRs give us a poorer R-square value (0.753 and 0.784) as compared to an R-square value of 1.000 in the original input dataset."
   ]
  },
  {
   "cell_type": "markdown",
   "id": "bde00aa6-c79e-4f05-b3d9-a1cd21f057ad",
   "metadata": {},
   "source": [
    "## 7.3\n",
    "Find the outliers in your dataset using leverage value. Identify the corresponding observations in the input file and remove those. Now re-train the model and conduct the residual analysis and test for homoscedasticity."
   ]
  },
  {
   "cell_type": "code",
   "execution_count": 18,
   "id": "2b3ccd4d-e57a-47ce-965c-a3a95f930e03",
   "metadata": {},
   "outputs": [
    {
     "data": {
      "image/png": "[encoded data removed]",
      "text/plain": [
       "<Figure size 1000x1000 with 1 Axes>"
      ]
     },
     "metadata": {},
     "output_type": "display_data"
    }
   ],
   "source": [
    "from statsmodels.graphics.regressionplots import influence_plot\n",
    "\n",
    "fig, ax = plt.subplots(figsize=(10,10))\n",
    "influence_plot(student_model, ax = ax)\n",
    "plt.title(\"Leverage value for Residuals\")\n",
    "plt.show()"
   ]
  },
  {
   "cell_type": "code",
   "execution_count": null,
   "id": "0b996336-8d9e-48e2-874f-82b03f7e0acc",
   "metadata": {},
   "outputs": [],
   "source": []
  }
 ],
 "metadata": {
  "kernelspec": {
   "display_name": "Python 3 (ipykernel)",
   "language": "python",
   "name": "python3"
  },
  "language_info": {
   "codemirror_mode": {
    "name": "ipython",
    "version": 3
   },
   "file_extension": ".py",
   "mimetype": "text/x-python",
   "name": "python",
   "nbconvert_exporter": "python",
   "pygments_lexer": "ipython3",
   "version": "3.10.12"
  }
 },
 "nbformat": 4,
 "nbformat_minor": 5
}

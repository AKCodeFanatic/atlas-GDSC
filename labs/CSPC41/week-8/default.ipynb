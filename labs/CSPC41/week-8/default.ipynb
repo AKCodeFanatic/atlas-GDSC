{
 "cells": [
  {
   "cell_type": "markdown",
   "id": "94f5a140-d3eb-42e2-b53b-9c7ff131597b",
   "metadata": {},
   "source": [
    "# Week 8 - 27th September, 2023\n",
    "\n",
    "1. Build a logistic regression model to predict the probability of getting `chd` (Coronary Heart Disease), that is, `P(chd = 1)`. Use all other columns except chd as features to build the model.\n",
    "2. Find out which features are statistically significant in the logistic regression model built in Question 1. Build a new logistic regression model using only the significant features.\n",
    "3. From the logistic regression model parameters, determine which parameters affect the probability of `chd` positively and negatively.\n",
    "4. Calculate Youden’s index for all possible cut-off probabilities ranging from `0.1` to `0.5` with an interval of `0.01`. Find the optimal cut-off where Youden’s index is maximum.\n",
    "5. Build a confusion matrix based on the cut-off probability found in Question 4 and report the precision and recall of the model for chd cases (i.e., `chd` = 1).\n",
    "6. Find optimal cut-off probability using cost-based approach using the cost of FPs and FNs as defined below:\n",
    "   - Cost of predicting “chd” as “No chd” (FNs) cases is 5 times more than predicting “No chd” as “chd” (FPs).\n",
    "   - Then find the precision and recall of the model for `chd` = 1."
   ]
  },
  {
   "cell_type": "code",
   "execution_count": 11,
   "id": "246d8e4f-7839-439f-8f33-dadc11918ecf",
   "metadata": {},
   "outputs": [
    {
     "data": {
      "text/html": [
       "<div>\n",
       "<style scoped>\n",
       "    .dataframe tbody tr th:only-of-type {\n",
       "        vertical-align: middle;\n",
       "    }\n",
       "\n",
       "    .dataframe tbody tr th {\n",
       "        vertical-align: top;\n",
       "    }\n",
       "\n",
       "    .dataframe thead th {\n",
       "        text-align: right;\n",
       "    }\n",
       "</style>\n",
       "<table border=\"1\" class=\"dataframe\">\n",
       "  <thead>\n",
       "    <tr style=\"text-align: right;\">\n",
       "      <th></th>\n",
       "      <th>Class</th>\n",
       "      <th>F1</th>\n",
       "      <th>F2</th>\n",
       "      <th>F3</th>\n",
       "      <th>F4</th>\n",
       "      <th>F5</th>\n",
       "      <th>F6</th>\n",
       "      <th>F7</th>\n",
       "      <th>F8</th>\n",
       "      <th>F9</th>\n",
       "      <th>F10</th>\n",
       "      <th>F11</th>\n",
       "      <th>F12</th>\n",
       "      <th>F13</th>\n",
       "    </tr>\n",
       "  </thead>\n",
       "  <tbody>\n",
       "    <tr>\n",
       "      <th>0</th>\n",
       "      <td>0</td>\n",
       "      <td>34</td>\n",
       "      <td>1</td>\n",
       "      <td>1</td>\n",
       "      <td>118</td>\n",
       "      <td>182</td>\n",
       "      <td>0</td>\n",
       "      <td>2</td>\n",
       "      <td>174</td>\n",
       "      <td>0</td>\n",
       "      <td>0.0</td>\n",
       "      <td>1</td>\n",
       "      <td>0</td>\n",
       "      <td>3</td>\n",
       "    </tr>\n",
       "    <tr>\n",
       "      <th>1</th>\n",
       "      <td>1</td>\n",
       "      <td>53</td>\n",
       "      <td>1</td>\n",
       "      <td>4</td>\n",
       "      <td>140</td>\n",
       "      <td>203</td>\n",
       "      <td>1</td>\n",
       "      <td>2</td>\n",
       "      <td>155</td>\n",
       "      <td>1</td>\n",
       "      <td>3.1</td>\n",
       "      <td>3</td>\n",
       "      <td>0</td>\n",
       "      <td>7</td>\n",
       "    </tr>\n",
       "    <tr>\n",
       "      <th>2</th>\n",
       "      <td>1</td>\n",
       "      <td>61</td>\n",
       "      <td>1</td>\n",
       "      <td>1</td>\n",
       "      <td>134</td>\n",
       "      <td>234</td>\n",
       "      <td>0</td>\n",
       "      <td>0</td>\n",
       "      <td>145</td>\n",
       "      <td>0</td>\n",
       "      <td>2.6</td>\n",
       "      <td>2</td>\n",
       "      <td>2</td>\n",
       "      <td>3</td>\n",
       "    </tr>\n",
       "    <tr>\n",
       "      <th>3</th>\n",
       "      <td>0</td>\n",
       "      <td>68</td>\n",
       "      <td>1</td>\n",
       "      <td>3</td>\n",
       "      <td>118</td>\n",
       "      <td>277</td>\n",
       "      <td>0</td>\n",
       "      <td>0</td>\n",
       "      <td>151</td>\n",
       "      <td>0</td>\n",
       "      <td>1.0</td>\n",
       "      <td>1</td>\n",
       "      <td>1</td>\n",
       "      <td>7</td>\n",
       "    </tr>\n",
       "    <tr>\n",
       "      <th>4</th>\n",
       "      <td>1</td>\n",
       "      <td>54</td>\n",
       "      <td>1</td>\n",
       "      <td>4</td>\n",
       "      <td>122</td>\n",
       "      <td>286</td>\n",
       "      <td>0</td>\n",
       "      <td>2</td>\n",
       "      <td>116</td>\n",
       "      <td>1</td>\n",
       "      <td>3.2</td>\n",
       "      <td>2</td>\n",
       "      <td>2</td>\n",
       "      <td>3</td>\n",
       "    </tr>\n",
       "  </tbody>\n",
       "</table>\n",
       "</div>"
      ],
      "text/plain": [
       "   Class  F1  F2  F3   F4   F5  F6  F7   F8  F9  F10  F11  F12  F13\n",
       "0      0  34   1   1  118  182   0   2  174   0  0.0    1    0    3\n",
       "1      1  53   1   4  140  203   1   2  155   1  3.1    3    0    7\n",
       "2      1  61   1   1  134  234   0   0  145   0  2.6    2    2    3\n",
       "3      0  68   1   3  118  277   0   0  151   0  1.0    1    1    7\n",
       "4      1  54   1   4  122  286   0   2  116   1  3.2    2    2    3"
      ]
     },
     "execution_count": 11,
     "metadata": {},
     "output_type": "execute_result"
    }
   ],
   "source": [
    "import pandas as pd\n",
    "\n",
    "input_df = pd.read_csv('../classification-datasets/HeartEW.csv')\n",
    "\n",
    "# Modifying the class column so that the values fall in the range of 0-1\n",
    "input_df.Class = input_df.Class.apply(lambda x: x - 1)\n",
    "\n",
    "input_df.head(5)"
   ]
  },
  {
   "cell_type": "code",
   "execution_count": 12,
   "id": "2eba85cb-d0f1-4a06-852a-a6cf49076634",
   "metadata": {},
   "outputs": [],
   "source": [
    "X_features = input_df.drop(['Class'], axis=1).columns\n",
    "filtered_df = input_df[X_features]"
   ]
  },
  {
   "cell_type": "code",
   "execution_count": 33,
   "id": "97ff9ecb-857f-4017-a7c5-cbfe3200f02e",
   "metadata": {},
   "outputs": [],
   "source": [
    "import statsmodels.api as sm\n",
    "\n",
    "X = sm.add_constant(filtered_df)\n",
    "Y = input_df.Class"
   ]
  },
  {
   "cell_type": "code",
   "execution_count": 15,
   "id": "19f415b9-089f-42c2-b09b-aad10fe3b476",
   "metadata": {},
   "outputs": [],
   "source": [
    "from sklearn.model_selection import train_test_split\n",
    "\n",
    "train_X, test_X, train_Y, test_Y = train_test_split(X, Y, test_size = 0.3, random_state = 42)"
   ]
  },
  {
   "cell_type": "code",
   "execution_count": 19,
   "id": "e5a4159f-3ad8-423d-a359-3f29f70d2286",
   "metadata": {},
   "outputs": [
    {
     "name": "stdout",
     "output_type": "stream",
     "text": [
      "Optimization terminated successfully.\n",
      "         Current function value: 0.323056\n",
      "         Iterations 7\n"
     ]
    }
   ],
   "source": [
    "logit = sm.Logit(train_Y, train_X)\n",
    "logit_model = logit.fit()"
   ]
  },
  {
   "cell_type": "code",
   "execution_count": 20,
   "id": "de023b0c-eb47-446c-af1c-dd4268b6f0d6",
   "metadata": {},
   "outputs": [
    {
     "data": {
      "text/html": [
       "<table class=\"simpletable\">\n",
       "<tr>\n",
       "        <td>Model:</td>              <td>Logit</td>           <td>Method:</td>          <td>MLE</td>   \n",
       "</tr>\n",
       "<tr>\n",
       "  <td>Dependent Variable:</td>       <td>Class</td>      <td>Pseudo R-squared:</td>    <td>0.531</td>  \n",
       "</tr>\n",
       "<tr>\n",
       "         <td>Date:</td>        <td>2023-09-27 11:42</td>       <td>AIC:</td>         <td>150.1150</td> \n",
       "</tr>\n",
       "<tr>\n",
       "   <td>No. Observations:</td>         <td>189</td>             <td>BIC:</td>         <td>195.4995</td> \n",
       "</tr>\n",
       "<tr>\n",
       "       <td>Df Model:</td>             <td>13</td>         <td>Log-Likelihood:</td>    <td>-61.058</td> \n",
       "</tr>\n",
       "<tr>\n",
       "     <td>Df Residuals:</td>           <td>175</td>           <td>LL-Null:</td>        <td>-130.05</td> \n",
       "</tr>\n",
       "<tr>\n",
       "      <td>Converged:</td>           <td>1.0000</td>        <td>LLR p-value:</td>    <td>5.3379e-23</td>\n",
       "</tr>\n",
       "<tr>\n",
       "    <td>No. Iterations:</td>        <td>7.0000</td>           <td>Scale:</td>         <td>1.0000</td>  \n",
       "</tr>\n",
       "</table>\n",
       "<table class=\"simpletable\">\n",
       "<tr>\n",
       "    <td></td>     <th>Coef.</th>  <th>Std.Err.</th>    <th>z</th>     <th>P>|z|</th>  <th>[0.025</th>  <th>0.975]</th>\n",
       "</tr>\n",
       "<tr>\n",
       "  <th>const</th> <td>-6.6918</td>  <td>3.6226</td>  <td>-1.8473</td> <td>0.0647</td> <td>-13.7920</td> <td>0.4083</td>\n",
       "</tr>\n",
       "<tr>\n",
       "  <th>F1</th>    <td>-0.0084</td>  <td>0.0332</td>  <td>-0.2535</td> <td>0.7999</td>  <td>-0.0735</td> <td>0.0567</td>\n",
       "</tr>\n",
       "<tr>\n",
       "  <th>F2</th>    <td>1.7630</td>   <td>0.6855</td>  <td>2.5717</td>  <td>0.0101</td>  <td>0.4194</td>  <td>3.1066</td>\n",
       "</tr>\n",
       "<tr>\n",
       "  <th>F3</th>    <td>0.7348</td>   <td>0.2778</td>  <td>2.6453</td>  <td>0.0082</td>  <td>0.1904</td>  <td>1.2793</td>\n",
       "</tr>\n",
       "<tr>\n",
       "  <th>F4</th>    <td>0.0127</td>   <td>0.0146</td>  <td>0.8690</td>  <td>0.3848</td>  <td>-0.0159</td> <td>0.0412</td>\n",
       "</tr>\n",
       "<tr>\n",
       "  <th>F5</th>    <td>0.0051</td>   <td>0.0047</td>  <td>1.1031</td>  <td>0.2700</td>  <td>-0.0040</td> <td>0.0143</td>\n",
       "</tr>\n",
       "<tr>\n",
       "  <th>F6</th>    <td>-1.2262</td>  <td>0.7166</td>  <td>-1.7111</td> <td>0.0871</td>  <td>-2.6308</td> <td>0.1783</td>\n",
       "</tr>\n",
       "<tr>\n",
       "  <th>F7</th>    <td>0.3657</td>   <td>0.2421</td>  <td>1.5105</td>  <td>0.1309</td>  <td>-0.1088</td> <td>0.8403</td>\n",
       "</tr>\n",
       "<tr>\n",
       "  <th>F8</th>    <td>-0.0219</td>  <td>0.0126</td>  <td>-1.7399</td> <td>0.0819</td>  <td>-0.0466</td> <td>0.0028</td>\n",
       "</tr>\n",
       "<tr>\n",
       "  <th>F9</th>    <td>0.7629</td>   <td>0.5516</td>  <td>1.3831</td>  <td>0.1666</td>  <td>-0.3182</td> <td>1.8439</td>\n",
       "</tr>\n",
       "<tr>\n",
       "  <th>F10</th>   <td>0.3794</td>   <td>0.2944</td>  <td>1.2885</td>  <td>0.1976</td>  <td>-0.1977</td> <td>0.9565</td>\n",
       "</tr>\n",
       "<tr>\n",
       "  <th>F11</th>   <td>0.4701</td>   <td>0.4649</td>  <td>1.0112</td>  <td>0.3119</td>  <td>-0.4411</td> <td>1.3813</td>\n",
       "</tr>\n",
       "<tr>\n",
       "  <th>F12</th>   <td>1.1859</td>   <td>0.3259</td>  <td>3.6385</td>  <td>0.0003</td>  <td>0.5471</td>  <td>1.8247</td>\n",
       "</tr>\n",
       "<tr>\n",
       "  <th>F13</th>   <td>0.3194</td>   <td>0.1315</td>  <td>2.4299</td>  <td>0.0151</td>  <td>0.0618</td>  <td>0.5770</td>\n",
       "</tr>\n",
       "</table><br/>\n"
      ],
      "text/latex": [
       "\\begin{table}\n",
       "\\caption{Results: Logit}\n",
       "\\label{}\n",
       "\\begin{center}\n",
       "\\begin{tabular}{llll}\n",
       "\\hline\n",
       "Model:              & Logit            & Method:           & MLE         \\\\\n",
       "Dependent Variable: & Class            & Pseudo R-squared: & 0.531       \\\\\n",
       "Date:               & 2023-09-27 11:42 & AIC:              & 150.1150    \\\\\n",
       "No. Observations:   & 189              & BIC:              & 195.4995    \\\\\n",
       "Df Model:           & 13               & Log-Likelihood:   & -61.058     \\\\\n",
       "Df Residuals:       & 175              & LL-Null:          & -130.05     \\\\\n",
       "Converged:          & 1.0000           & LLR p-value:      & 5.3379e-23  \\\\\n",
       "No. Iterations:     & 7.0000           & Scale:            & 1.0000      \\\\\n",
       "\\hline\n",
       "\\end{tabular}\n",
       "\\end{center}\n",
       "\n",
       "\\begin{center}\n",
       "\\begin{tabular}{lrrrrrr}\n",
       "\\hline\n",
       "      &   Coef. & Std.Err. &       z & P$> |$z$|$ &   [0.025 & 0.975]  \\\\\n",
       "\\hline\n",
       "const & -6.6918 &   3.6226 & -1.8473 &      0.0647 & -13.7920 & 0.4083  \\\\\n",
       "F1    & -0.0084 &   0.0332 & -0.2535 &      0.7999 &  -0.0735 & 0.0567  \\\\\n",
       "F2    &  1.7630 &   0.6855 &  2.5717 &      0.0101 &   0.4194 & 3.1066  \\\\\n",
       "F3    &  0.7348 &   0.2778 &  2.6453 &      0.0082 &   0.1904 & 1.2793  \\\\\n",
       "F4    &  0.0127 &   0.0146 &  0.8690 &      0.3848 &  -0.0159 & 0.0412  \\\\\n",
       "F5    &  0.0051 &   0.0047 &  1.1031 &      0.2700 &  -0.0040 & 0.0143  \\\\\n",
       "F6    & -1.2262 &   0.7166 & -1.7111 &      0.0871 &  -2.6308 & 0.1783  \\\\\n",
       "F7    &  0.3657 &   0.2421 &  1.5105 &      0.1309 &  -0.1088 & 0.8403  \\\\\n",
       "F8    & -0.0219 &   0.0126 & -1.7399 &      0.0819 &  -0.0466 & 0.0028  \\\\\n",
       "F9    &  0.7629 &   0.5516 &  1.3831 &      0.1666 &  -0.3182 & 1.8439  \\\\\n",
       "F10   &  0.3794 &   0.2944 &  1.2885 &      0.1976 &  -0.1977 & 0.9565  \\\\\n",
       "F11   &  0.4701 &   0.4649 &  1.0112 &      0.3119 &  -0.4411 & 1.3813  \\\\\n",
       "F12   &  1.1859 &   0.3259 &  3.6385 &      0.0003 &   0.5471 & 1.8247  \\\\\n",
       "F13   &  0.3194 &   0.1315 &  2.4299 &      0.0151 &   0.0618 & 0.5770  \\\\\n",
       "\\hline\n",
       "\\end{tabular}\n",
       "\\end{center}\n",
       "\\end{table}\n",
       "\\bigskip\n"
      ],
      "text/plain": [
       "<class 'statsmodels.iolib.summary2.Summary'>\n",
       "\"\"\"\n",
       "                         Results: Logit\n",
       "=================================================================\n",
       "Model:              Logit            Method:           MLE       \n",
       "Dependent Variable: Class            Pseudo R-squared: 0.531     \n",
       "Date:               2023-09-27 11:42 AIC:              150.1150  \n",
       "No. Observations:   189              BIC:              195.4995  \n",
       "Df Model:           13               Log-Likelihood:   -61.058   \n",
       "Df Residuals:       175              LL-Null:          -130.05   \n",
       "Converged:          1.0000           LLR p-value:      5.3379e-23\n",
       "No. Iterations:     7.0000           Scale:            1.0000    \n",
       "-------------------------------------------------------------------\n",
       "           Coef.    Std.Err.      z      P>|z|     [0.025    0.975]\n",
       "-------------------------------------------------------------------\n",
       "const     -6.6918     3.6226   -1.8473   0.0647   -13.7920   0.4083\n",
       "F1        -0.0084     0.0332   -0.2535   0.7999    -0.0735   0.0567\n",
       "F2         1.7630     0.6855    2.5717   0.0101     0.4194   3.1066\n",
       "F3         0.7348     0.2778    2.6453   0.0082     0.1904   1.2793\n",
       "F4         0.0127     0.0146    0.8690   0.3848    -0.0159   0.0412\n",
       "F5         0.0051     0.0047    1.1031   0.2700    -0.0040   0.0143\n",
       "F6        -1.2262     0.7166   -1.7111   0.0871    -2.6308   0.1783\n",
       "F7         0.3657     0.2421    1.5105   0.1309    -0.1088   0.8403\n",
       "F8        -0.0219     0.0126   -1.7399   0.0819    -0.0466   0.0028\n",
       "F9         0.7629     0.5516    1.3831   0.1666    -0.3182   1.8439\n",
       "F10        0.3794     0.2944    1.2885   0.1976    -0.1977   0.9565\n",
       "F11        0.4701     0.4649    1.0112   0.3119    -0.4411   1.3813\n",
       "F12        1.1859     0.3259    3.6385   0.0003     0.5471   1.8247\n",
       "F13        0.3194     0.1315    2.4299   0.0151     0.0618   0.5770\n",
       "=================================================================\n",
       "\n",
       "\"\"\""
      ]
     },
     "execution_count": 20,
     "metadata": {},
     "output_type": "execute_result"
    }
   ],
   "source": [
    "logit_model.summary2()"
   ]
  },
  {
   "cell_type": "code",
   "execution_count": 22,
   "id": "fe58c162-e836-4871-be88-4732ab0dec08",
   "metadata": {},
   "outputs": [
    {
     "data": {
      "text/plain": [
       "['F2', 'F3', 'F12', 'F13']"
      ]
     },
     "execution_count": 22,
     "metadata": {},
     "output_type": "execute_result"
    }
   ],
   "source": [
    "def get_significant_vars(lm):\n",
    "    #Store the p-values and corresponding column names in a dataframe\n",
    "    var_p_vals_df = pd.DataFrame( lm.pvalues )\n",
    "    var_p_vals_df['vars'] = var_p_vals_df.index\n",
    "    var_p_vals_df.columns = ['pvals', 'vars']\n",
    "    # Filter the column names where p-value is less than 0.05\n",
    "    return list( var_p_vals_df[var_p_vals_df.pvals <= 0.05]['vars'] )\n",
    "\n",
    "significant_vars = get_significant_vars( logit_model )\n",
    "significant_vars"
   ]
  },
  {
   "cell_type": "code",
   "execution_count": 26,
   "id": "512f0e55-3a51-40b6-9a39-81c5a9394b48",
   "metadata": {},
   "outputs": [
    {
     "name": "stdout",
     "output_type": "stream",
     "text": [
      "Optimization terminated successfully.\n",
      "         Current function value: 0.396402\n",
      "         Iterations 7\n"
     ]
    }
   ],
   "source": [
    "final_logit = sm.Logit( train_Y,\n",
    "\n",
    "sm.add_constant( train_X [significant_vars] ) ).fit()"
   ]
  },
  {
   "cell_type": "code",
   "execution_count": 27,
   "id": "469552e6-2044-47eb-baf2-46bce365505b",
   "metadata": {},
   "outputs": [
    {
     "data": {
      "text/html": [
       "<table class=\"simpletable\">\n",
       "<tr>\n",
       "        <td>Model:</td>              <td>Logit</td>           <td>Method:</td>          <td>MLE</td>   \n",
       "</tr>\n",
       "<tr>\n",
       "  <td>Dependent Variable:</td>       <td>Class</td>      <td>Pseudo R-squared:</td>    <td>0.424</td>  \n",
       "</tr>\n",
       "<tr>\n",
       "         <td>Date:</td>        <td>2023-09-27 12:08</td>       <td>AIC:</td>         <td>159.8401</td> \n",
       "</tr>\n",
       "<tr>\n",
       "   <td>No. Observations:</td>         <td>189</td>             <td>BIC:</td>         <td>176.0489</td> \n",
       "</tr>\n",
       "<tr>\n",
       "       <td>Df Model:</td>              <td>4</td>         <td>Log-Likelihood:</td>    <td>-74.920</td> \n",
       "</tr>\n",
       "<tr>\n",
       "     <td>Df Residuals:</td>           <td>184</td>           <td>LL-Null:</td>        <td>-130.05</td> \n",
       "</tr>\n",
       "<tr>\n",
       "      <td>Converged:</td>           <td>1.0000</td>        <td>LLR p-value:</td>    <td>6.4173e-23</td>\n",
       "</tr>\n",
       "<tr>\n",
       "    <td>No. Iterations:</td>        <td>7.0000</td>           <td>Scale:</td>         <td>1.0000</td>  \n",
       "</tr>\n",
       "</table>\n",
       "<table class=\"simpletable\">\n",
       "<tr>\n",
       "    <td></td>     <th>Coef.</th>  <th>Std.Err.</th>    <th>z</th>     <th>P>|z|</th> <th>[0.025</th>  <th>0.975]</th> \n",
       "</tr>\n",
       "<tr>\n",
       "  <th>const</th> <td>-6.7264</td>  <td>1.0207</td>  <td>-6.5899</td> <td>0.0000</td> <td>-8.7270</td> <td>-4.7258</td>\n",
       "</tr>\n",
       "<tr>\n",
       "  <th>F2</th>    <td>1.1994</td>   <td>0.5246</td>  <td>2.2865</td>  <td>0.0222</td> <td>0.1713</td>  <td>2.2276</td> \n",
       "</tr>\n",
       "<tr>\n",
       "  <th>F3</th>    <td>0.9104</td>   <td>0.2516</td>  <td>3.6188</td>  <td>0.0003</td> <td>0.4173</td>  <td>1.4035</td> \n",
       "</tr>\n",
       "<tr>\n",
       "  <th>F12</th>   <td>1.1579</td>   <td>0.2593</td>  <td>4.4651</td>  <td>0.0000</td> <td>0.6496</td>  <td>1.6661</td> \n",
       "</tr>\n",
       "<tr>\n",
       "  <th>F13</th>   <td>0.4142</td>   <td>0.1124</td>  <td>3.6834</td>  <td>0.0002</td> <td>0.1938</td>  <td>0.6345</td> \n",
       "</tr>\n",
       "</table><br/>\n"
      ],
      "text/latex": [
       "\\begin{table}\n",
       "\\caption{Results: Logit}\n",
       "\\label{}\n",
       "\\begin{center}\n",
       "\\begin{tabular}{llll}\n",
       "\\hline\n",
       "Model:              & Logit            & Method:           & MLE         \\\\\n",
       "Dependent Variable: & Class            & Pseudo R-squared: & 0.424       \\\\\n",
       "Date:               & 2023-09-27 12:08 & AIC:              & 159.8401    \\\\\n",
       "No. Observations:   & 189              & BIC:              & 176.0489    \\\\\n",
       "Df Model:           & 4                & Log-Likelihood:   & -74.920     \\\\\n",
       "Df Residuals:       & 184              & LL-Null:          & -130.05     \\\\\n",
       "Converged:          & 1.0000           & LLR p-value:      & 6.4173e-23  \\\\\n",
       "No. Iterations:     & 7.0000           & Scale:            & 1.0000      \\\\\n",
       "\\hline\n",
       "\\end{tabular}\n",
       "\\end{center}\n",
       "\n",
       "\\begin{center}\n",
       "\\begin{tabular}{lrrrrrr}\n",
       "\\hline\n",
       "      &   Coef. & Std.Err. &       z & P$> |$z$|$ &  [0.025 &  0.975]  \\\\\n",
       "\\hline\n",
       "const & -6.7264 &   1.0207 & -6.5899 &      0.0000 & -8.7270 & -4.7258  \\\\\n",
       "F2    &  1.1994 &   0.5246 &  2.2865 &      0.0222 &  0.1713 &  2.2276  \\\\\n",
       "F3    &  0.9104 &   0.2516 &  3.6188 &      0.0003 &  0.4173 &  1.4035  \\\\\n",
       "F12   &  1.1579 &   0.2593 &  4.4651 &      0.0000 &  0.6496 &  1.6661  \\\\\n",
       "F13   &  0.4142 &   0.1124 &  3.6834 &      0.0002 &  0.1938 &  0.6345  \\\\\n",
       "\\hline\n",
       "\\end{tabular}\n",
       "\\end{center}\n",
       "\\end{table}\n",
       "\\bigskip\n"
      ],
      "text/plain": [
       "<class 'statsmodels.iolib.summary2.Summary'>\n",
       "\"\"\"\n",
       "                         Results: Logit\n",
       "=================================================================\n",
       "Model:              Logit            Method:           MLE       \n",
       "Dependent Variable: Class            Pseudo R-squared: 0.424     \n",
       "Date:               2023-09-27 12:08 AIC:              159.8401  \n",
       "No. Observations:   189              BIC:              176.0489  \n",
       "Df Model:           4                Log-Likelihood:   -74.920   \n",
       "Df Residuals:       184              LL-Null:          -130.05   \n",
       "Converged:          1.0000           LLR p-value:      6.4173e-23\n",
       "No. Iterations:     7.0000           Scale:            1.0000    \n",
       "-------------------------------------------------------------------\n",
       "           Coef.    Std.Err.      z      P>|z|     [0.025    0.975]\n",
       "-------------------------------------------------------------------\n",
       "const     -6.7264     1.0207   -6.5899   0.0000   -8.7270   -4.7258\n",
       "F2         1.1994     0.5246    2.2865   0.0222    0.1713    2.2276\n",
       "F3         0.9104     0.2516    3.6188   0.0003    0.4173    1.4035\n",
       "F12        1.1579     0.2593    4.4651   0.0000    0.6496    1.6661\n",
       "F13        0.4142     0.1124    3.6834   0.0002    0.1938    0.6345\n",
       "=================================================================\n",
       "\n",
       "\"\"\""
      ]
     },
     "execution_count": 27,
     "metadata": {},
     "output_type": "execute_result"
    }
   ],
   "source": [
    "final_logit.summary2()"
   ]
  },
  {
   "cell_type": "code",
   "execution_count": 31,
   "id": "6660a431-a7c2-42c0-99d8-dc9a6147d146",
   "metadata": {},
   "outputs": [
    {
     "data": {
      "text/html": [
       "<div>\n",
       "<style scoped>\n",
       "    .dataframe tbody tr th:only-of-type {\n",
       "        vertical-align: middle;\n",
       "    }\n",
       "\n",
       "    .dataframe tbody tr th {\n",
       "        vertical-align: top;\n",
       "    }\n",
       "\n",
       "    .dataframe thead th {\n",
       "        text-align: right;\n",
       "    }\n",
       "</style>\n",
       "<table border=\"1\" class=\"dataframe\">\n",
       "  <thead>\n",
       "    <tr style=\"text-align: right;\">\n",
       "      <th></th>\n",
       "      <th>actual</th>\n",
       "      <th>predicted_prob</th>\n",
       "    </tr>\n",
       "  </thead>\n",
       "  <tbody>\n",
       "    <tr>\n",
       "      <th>113</th>\n",
       "      <td>0</td>\n",
       "      <td>0.075499</td>\n",
       "    </tr>\n",
       "    <tr>\n",
       "      <th>30</th>\n",
       "      <td>1</td>\n",
       "      <td>0.515484</td>\n",
       "    </tr>\n",
       "    <tr>\n",
       "      <th>46</th>\n",
       "      <td>0</td>\n",
       "      <td>0.078449</td>\n",
       "    </tr>\n",
       "    <tr>\n",
       "      <th>68</th>\n",
       "      <td>0</td>\n",
       "      <td>0.025013</td>\n",
       "    </tr>\n",
       "    <tr>\n",
       "      <th>104</th>\n",
       "      <td>0</td>\n",
       "      <td>0.152206</td>\n",
       "    </tr>\n",
       "    <tr>\n",
       "      <th>109</th>\n",
       "      <td>0</td>\n",
       "      <td>0.059941</td>\n",
       "    </tr>\n",
       "    <tr>\n",
       "      <th>183</th>\n",
       "      <td>1</td>\n",
       "      <td>0.988878</td>\n",
       "    </tr>\n",
       "    <tr>\n",
       "      <th>18</th>\n",
       "      <td>0</td>\n",
       "      <td>0.344634</td>\n",
       "    </tr>\n",
       "    <tr>\n",
       "      <th>196</th>\n",
       "      <td>1</td>\n",
       "      <td>0.733790</td>\n",
       "    </tr>\n",
       "    <tr>\n",
       "      <th>227</th>\n",
       "      <td>0</td>\n",
       "      <td>0.616245</td>\n",
       "    </tr>\n",
       "  </tbody>\n",
       "</table>\n",
       "</div>"
      ],
      "text/plain": [
       "     actual  predicted_prob\n",
       "113       0        0.075499\n",
       "30        1        0.515484\n",
       "46        0        0.078449\n",
       "68        0        0.025013\n",
       "104       0        0.152206\n",
       "109       0        0.059941\n",
       "183       1        0.988878\n",
       "18        0        0.344634\n",
       "196       1        0.733790\n",
       "227       0        0.616245"
      ]
     },
     "execution_count": 31,
     "metadata": {},
     "output_type": "execute_result"
    }
   ],
   "source": [
    "y_pred_df= pd.DataFrame( {'actual': test_Y, 'predicted_prob': final_logit.predict(sm.add_constant( test_X[significant_vars]))})\n",
    "y_pred_df.sample(10, random_state = 42)"
   ]
  },
  {
   "cell_type": "code",
   "execution_count": 35,
   "id": "07e9d2f9-aa27-4775-b8a5-b1c191c8dfbc",
   "metadata": {},
   "outputs": [
    {
     "data": {
      "text/html": [
       "<div>\n",
       "<style scoped>\n",
       "    .dataframe tbody tr th:only-of-type {\n",
       "        vertical-align: middle;\n",
       "    }\n",
       "\n",
       "    .dataframe tbody tr th {\n",
       "        vertical-align: top;\n",
       "    }\n",
       "\n",
       "    .dataframe thead th {\n",
       "        text-align: right;\n",
       "    }\n",
       "</style>\n",
       "<table border=\"1\" class=\"dataframe\">\n",
       "  <thead>\n",
       "    <tr style=\"text-align: right;\">\n",
       "      <th></th>\n",
       "      <th>actual</th>\n",
       "      <th>predicted_prob</th>\n",
       "      <th>predicted</th>\n",
       "    </tr>\n",
       "  </thead>\n",
       "  <tbody>\n",
       "    <tr>\n",
       "      <th>113</th>\n",
       "      <td>0</td>\n",
       "      <td>0.075499</td>\n",
       "      <td>0</td>\n",
       "    </tr>\n",
       "    <tr>\n",
       "      <th>30</th>\n",
       "      <td>1</td>\n",
       "      <td>0.515484</td>\n",
       "      <td>1</td>\n",
       "    </tr>\n",
       "    <tr>\n",
       "      <th>46</th>\n",
       "      <td>0</td>\n",
       "      <td>0.078449</td>\n",
       "      <td>0</td>\n",
       "    </tr>\n",
       "    <tr>\n",
       "      <th>68</th>\n",
       "      <td>0</td>\n",
       "      <td>0.025013</td>\n",
       "      <td>0</td>\n",
       "    </tr>\n",
       "    <tr>\n",
       "      <th>104</th>\n",
       "      <td>0</td>\n",
       "      <td>0.152206</td>\n",
       "      <td>0</td>\n",
       "    </tr>\n",
       "    <tr>\n",
       "      <th>109</th>\n",
       "      <td>0</td>\n",
       "      <td>0.059941</td>\n",
       "      <td>0</td>\n",
       "    </tr>\n",
       "    <tr>\n",
       "      <th>183</th>\n",
       "      <td>1</td>\n",
       "      <td>0.988878</td>\n",
       "      <td>1</td>\n",
       "    </tr>\n",
       "    <tr>\n",
       "      <th>18</th>\n",
       "      <td>0</td>\n",
       "      <td>0.344634</td>\n",
       "      <td>0</td>\n",
       "    </tr>\n",
       "    <tr>\n",
       "      <th>196</th>\n",
       "      <td>1</td>\n",
       "      <td>0.733790</td>\n",
       "      <td>1</td>\n",
       "    </tr>\n",
       "    <tr>\n",
       "      <th>227</th>\n",
       "      <td>0</td>\n",
       "      <td>0.616245</td>\n",
       "      <td>1</td>\n",
       "    </tr>\n",
       "  </tbody>\n",
       "</table>\n",
       "</div>"
      ],
      "text/plain": [
       "     actual  predicted_prob  predicted\n",
       "113       0        0.075499          0\n",
       "30        1        0.515484          1\n",
       "46        0        0.078449          0\n",
       "68        0        0.025013          0\n",
       "104       0        0.152206          0\n",
       "109       0        0.059941          0\n",
       "183       1        0.988878          1\n",
       "18        0        0.344634          0\n",
       "196       1        0.733790          1\n",
       "227       0        0.616245          1"
      ]
     },
     "execution_count": 35,
     "metadata": {},
     "output_type": "execute_result"
    }
   ],
   "source": [
    "y_pred_df['predicted'] = y_pred_df.predicted_prob.map(lambda x: 1 if x > 0.5 else 0)\n",
    "\n",
    "y_pred_df.sample(10, random_state = 42)"
   ]
  },
  {
   "cell_type": "code",
   "execution_count": 42,
   "id": "78936826-3eec-4394-bc7f-c1277c7787b7",
   "metadata": {},
   "outputs": [
    {
     "data": {
      "image/png": "[encoded data removed]",
      "text/plain": [
       "<Figure size 640x480 with 2 Axes>"
      ]
     },
     "metadata": {},
     "output_type": "display_data"
    }
   ],
   "source": [
    "import matplotlib.pyplot as plt\n",
    "import seaborn as sn\n",
    "%matplotlib inline\n",
    "\n",
    "from sklearn import metrics\n",
    "def draw_cm( actual, predicted ):\n",
    "    ## Cret\n",
    "    cm = metrics.confusion_matrix( actual, predicted )\n",
    "    sn.heatmap(cm, annot=True, fmt='.2f', xticklabels = ['Bad credit', 'Good Credit'], yticklabels = ['Bad credit', 'Good Credit'] )\n",
    "\n",
    "    plt.ylabel('True label')\n",
    "    plt.xlabel('Predicted label')\n",
    "    plt.show()\n",
    "\n",
    "draw_cm( y_pred_df.actual, y_pred_df.predicted )"
   ]
  },
  {
   "cell_type": "code",
   "execution_count": 39,
   "id": "20ab8c3b-7dd2-4a4b-a74d-41c8ba61a894",
   "metadata": {},
   "outputs": [
    {
     "name": "stdout",
     "output_type": "stream",
     "text": [
      "              precision    recall  f1-score   support\n",
      "\n",
      "           0       0.81      0.83      0.82        46\n",
      "           1       0.76      0.74      0.75        35\n",
      "\n",
      "    accuracy                           0.79        81\n",
      "   macro avg       0.79      0.78      0.79        81\n",
      "weighted avg       0.79      0.79      0.79        81\n",
      "\n"
     ]
    }
   ],
   "source": [
    "print( metrics.classification_report( y_pred_df.actual, y_pred_df.predicted ) )"
   ]
  },
  {
   "cell_type": "code",
   "execution_count": 69,
   "id": "e8557be3-024d-4d2d-966f-2d0b62f9a0a0",
   "metadata": {},
   "outputs": [
    {
     "data": {
      "image/png": "[encoded data removed]",
      "text/plain": [
       "<Figure size 800x600 with 1 Axes>"
      ]
     },
     "metadata": {},
     "output_type": "display_data"
    }
   ],
   "source": [
    "import warnings\n",
    "warnings.filterwarnings(\"ignore\")\n",
    "\n",
    "plt.figure( figsize = (8,6) )\n",
    "\n",
    "# Plotting distribution of predicted probability values for bad credits\n",
    "sn.distplot( y_pred_df[y_pred_df.actual == 1]['predicted_prob'], kde=False, color = 'b', label = 'Bad Credit')\n",
    "\n",
    "# Plotting distribution of predicted probability values for good credits\n",
    "sn.distplot( y_pred_df[y_pred_df.actual == 0]['predicted_prob'], kde=False, color = 'g', label = 'Good Credit')\n",
    "\n",
    "plt.legend()\n",
    "plt.show()"
   ]
  },
  {
   "cell_type": "code",
   "execution_count": 45,
   "id": "53ec0576-8eb8-426a-8d19-f27aff343baa",
   "metadata": {},
   "outputs": [
    {
     "data": {
      "image/png": "[encoded data removed]",
      "text/plain": [
       "<Figure size 800x600 with 1 Axes>"
      ]
     },
     "metadata": {},
     "output_type": "display_data"
    }
   ],
   "source": [
    "def draw_roc( actual, probs ):\n",
    "    # Obtain fpr, tpr, thresholds\n",
    "    fpr, tpr, thresholds = metrics.roc_curve( actual, probs, drop_intermediate = False )\n",
    "\n",
    "    auc_score = metrics.roc_auc_score( actual, probs )\n",
    "    plt.figure(figsize=(8, 6))\n",
    "    # Plot the fpr and tpr values for different threshold values\n",
    "    plt.plot( fpr, tpr, label='ROC curve (area = %0.2f)' % auc_score )\n",
    "    # draw a diagonal line connecting the origin and top right most point\n",
    "    plt.plot([0, 1], [0, 1], 'k--')\n",
    "    plt.xlim([0.0, 1.0])\n",
    "    plt.ylim([0.0, 1.05])\n",
    "    # Setting x and y labels\n",
    "    plt.xlabel('False Positive Rate or [1 - True Negative Rate]')\n",
    "    plt.ylabel('True Positive Rate')\n",
    "    plt.legend(loc='lower right')\n",
    "    plt.show()\n",
    "    return fpr, tpr, thresholds\n",
    "\n",
    "fpr, tpr, thresholds = draw_roc( y_pred_df.actual, y_pred_df.predicted_prob)"
   ]
  },
  {
   "cell_type": "code",
   "execution_count": 46,
   "id": "16285796-a408-493f-b466-2eb930a92881",
   "metadata": {},
   "outputs": [
    {
     "data": {
      "text/plain": [
       "0.86"
      ]
     },
     "execution_count": 46,
     "metadata": {},
     "output_type": "execute_result"
    }
   ],
   "source": [
    "auc_score = metrics.roc_auc_score( y_pred_df.actual, y_pred_df.predicted_prob )\n",
    "\n",
    "round( float( auc_score ), 2 )"
   ]
  },
  {
   "cell_type": "code",
   "execution_count": 47,
   "id": "bf8b7d1f-a7ba-4b34-b776-8a4cceb07db1",
   "metadata": {},
   "outputs": [
    {
     "data": {
      "text/html": [
       "<div>\n",
       "<style scoped>\n",
       "    .dataframe tbody tr th:only-of-type {\n",
       "        vertical-align: middle;\n",
       "    }\n",
       "\n",
       "    .dataframe tbody tr th {\n",
       "        vertical-align: top;\n",
       "    }\n",
       "\n",
       "    .dataframe thead th {\n",
       "        text-align: right;\n",
       "    }\n",
       "</style>\n",
       "<table border=\"1\" class=\"dataframe\">\n",
       "  <thead>\n",
       "    <tr style=\"text-align: right;\">\n",
       "      <th></th>\n",
       "      <th>tpr</th>\n",
       "      <th>fpr</th>\n",
       "      <th>thresholds</th>\n",
       "      <th>diff</th>\n",
       "    </tr>\n",
       "  </thead>\n",
       "  <tbody>\n",
       "    <tr>\n",
       "      <th>15</th>\n",
       "      <td>0.800000</td>\n",
       "      <td>0.173913</td>\n",
       "      <td>0.453761</td>\n",
       "      <td>0.626087</td>\n",
       "    </tr>\n",
       "    <tr>\n",
       "      <th>11</th>\n",
       "      <td>0.714286</td>\n",
       "      <td>0.108696</td>\n",
       "      <td>0.626019</td>\n",
       "      <td>0.605590</td>\n",
       "    </tr>\n",
       "    <tr>\n",
       "      <th>14</th>\n",
       "      <td>0.742857</td>\n",
       "      <td>0.173913</td>\n",
       "      <td>0.515484</td>\n",
       "      <td>0.568944</td>\n",
       "    </tr>\n",
       "    <tr>\n",
       "      <th>12</th>\n",
       "      <td>0.714286</td>\n",
       "      <td>0.152174</td>\n",
       "      <td>0.616245</td>\n",
       "      <td>0.562112</td>\n",
       "    </tr>\n",
       "    <tr>\n",
       "      <th>13</th>\n",
       "      <td>0.714286</td>\n",
       "      <td>0.173913</td>\n",
       "      <td>0.525850</td>\n",
       "      <td>0.540373</td>\n",
       "    </tr>\n",
       "  </tbody>\n",
       "</table>\n",
       "</div>"
      ],
      "text/plain": [
       "         tpr       fpr  thresholds      diff\n",
       "15  0.800000  0.173913    0.453761  0.626087\n",
       "11  0.714286  0.108696    0.626019  0.605590\n",
       "14  0.742857  0.173913    0.515484  0.568944\n",
       "12  0.714286  0.152174    0.616245  0.562112\n",
       "13  0.714286  0.173913    0.525850  0.540373"
      ]
     },
     "execution_count": 47,
     "metadata": {},
     "output_type": "execute_result"
    }
   ],
   "source": [
    "tpr_fpr = pd.DataFrame({\n",
    "    'tpr': tpr,\n",
    "    'fpr': fpr,\n",
    "    'thresholds': thresholds\n",
    "})\n",
    "\n",
    "tpr_fpr['diff'] = tpr_fpr.tpr - tpr_fpr.fpr\n",
    "tpr_fpr.sort_values( 'diff', ascending = False )[0:5]"
   ]
  },
  {
   "cell_type": "code",
   "execution_count": 48,
   "id": "86c73030-11d2-442c-b662-a2fe34ea00b5",
   "metadata": {},
   "outputs": [],
   "source": [
    "y_pred_df['predicted_new'] = y_pred_df.predicted_prob.map(lambda x: 1 if x > 0.22 else 0)"
   ]
  },
  {
   "cell_type": "code",
   "execution_count": 49,
   "id": "1fa7cf19-60de-4c3b-97dc-5df8a855e03d",
   "metadata": {},
   "outputs": [
    {
     "data": {
      "image/png": "[encoded data removed]",
      "text/plain": [
       "<Figure size 640x480 with 2 Axes>"
      ]
     },
     "metadata": {},
     "output_type": "display_data"
    }
   ],
   "source": [
    "draw_cm( y_pred_df.actual, y_pred_df.predicted_new)"
   ]
  },
  {
   "cell_type": "code",
   "execution_count": 50,
   "id": "2e408c48-ed55-401f-8895-64fcaf0fe271",
   "metadata": {},
   "outputs": [
    {
     "name": "stdout",
     "output_type": "stream",
     "text": [
      "              precision    recall  f1-score   support\n",
      "\n",
      "           0       0.84      0.67      0.75        46\n",
      "           1       0.66      0.83      0.73        35\n",
      "\n",
      "    accuracy                           0.74        81\n",
      "   macro avg       0.75      0.75      0.74        81\n",
      "weighted avg       0.76      0.74      0.74        81\n",
      "\n"
     ]
    }
   ],
   "source": [
    "print(metrics.classification_report( y_pred_df.actual, y_pred_df.predicted_new ))"
   ]
  },
  {
   "cell_type": "code",
   "execution_count": 56,
   "id": "c5e3108d-a605-48b6-be34-78fcd368699e",
   "metadata": {},
   "outputs": [],
   "source": [
    "def get_total_cost( actual, predicted, cost_FPs, cost_FNs ):\n",
    "    # Get the confusion matrix and calculate cost\n",
    "    cm = metrics.confusion_matrix( actual, predicted )\n",
    "    cm_mat = np.array( cm )\n",
    "    return cm_mat[0,1] * cost_FNs + cm_mat[1,0] * cost_FPs\n",
    "\n",
    "cost_df = pd.DataFrame( columns = ['prob', 'cost'])"
   ]
  },
  {
   "cell_type": "code",
   "execution_count": 58,
   "id": "3f4492a4-12ec-4c49-b85c-5379caf08596",
   "metadata": {},
   "outputs": [
    {
     "data": {
      "text/html": [
       "<div>\n",
       "<style scoped>\n",
       "    .dataframe tbody tr th:only-of-type {\n",
       "        vertical-align: middle;\n",
       "    }\n",
       "\n",
       "    .dataframe tbody tr th {\n",
       "        vertical-align: top;\n",
       "    }\n",
       "\n",
       "    .dataframe thead th {\n",
       "        text-align: right;\n",
       "    }\n",
       "</style>\n",
       "<table border=\"1\" class=\"dataframe\">\n",
       "  <thead>\n",
       "    <tr style=\"text-align: right;\">\n",
       "      <th></th>\n",
       "      <th>prob</th>\n",
       "      <th>cost</th>\n",
       "    </tr>\n",
       "  </thead>\n",
       "  <tbody>\n",
       "    <tr>\n",
       "      <th>30</th>\n",
       "      <td>0.40</td>\n",
       "      <td>47.0</td>\n",
       "    </tr>\n",
       "    <tr>\n",
       "      <th>25</th>\n",
       "      <td>0.35</td>\n",
       "      <td>47.0</td>\n",
       "    </tr>\n",
       "    <tr>\n",
       "      <th>27</th>\n",
       "      <td>0.37</td>\n",
       "      <td>47.0</td>\n",
       "    </tr>\n",
       "    <tr>\n",
       "      <th>26</th>\n",
       "      <td>0.36</td>\n",
       "      <td>47.0</td>\n",
       "    </tr>\n",
       "    <tr>\n",
       "      <th>31</th>\n",
       "      <td>0.41</td>\n",
       "      <td>47.0</td>\n",
       "    </tr>\n",
       "  </tbody>\n",
       "</table>\n",
       "</div>"
      ],
      "text/plain": [
       "    prob  cost\n",
       "30  0.40  47.0\n",
       "25  0.35  47.0\n",
       "27  0.37  47.0\n",
       "26  0.36  47.0\n",
       "31  0.41  47.0"
      ]
     },
     "execution_count": 58,
     "metadata": {},
     "output_type": "execute_result"
    }
   ],
   "source": [
    "import numpy as np\n",
    "\n",
    "idx = 0\n",
    "\n",
    "## Iterate cut-off probability values between 0.1 and 0.5\n",
    "for each_prob in range(10, 50):\n",
    "    cost = get_total_cost( y_pred_df.actual, y_pred_df.predicted_prob.map(lambda x: 1 if x > (each_prob/100) else 0), 1, 5 )\n",
    "    cost_df.loc[idx] = [(each_prob/100), cost]\n",
    "    idx += 1\n",
    "\n",
    "cost_df.sort_values( 'cost', ascending = True )[0:5]"
   ]
  },
  {
   "cell_type": "code",
   "execution_count": 60,
   "id": "fd0c9bf5-2d03-4111-9a43-62e34e7312b6",
   "metadata": {},
   "outputs": [],
   "source": [
    "y_pred_df['predicted_using_cost'] = y_pred_df.predicted_prob.map(lambda x: 1 if x > 0.14 else 0)"
   ]
  },
  {
   "cell_type": "code",
   "execution_count": 61,
   "id": "aae3b4f7-2a3e-48f3-aa57-632bbf419751",
   "metadata": {},
   "outputs": [
    {
     "data": {
      "image/png": "[encoded data removed]",
      "text/plain": [
       "<Figure size 640x480 with 2 Axes>"
      ]
     },
     "metadata": {},
     "output_type": "display_data"
    }
   ],
   "source": [
    "draw_cm( y_pred_df.actual, y_pred_df.predicted_using_cost )"
   ]
  },
  {
   "cell_type": "code",
   "execution_count": null,
   "id": "f02b7388-2017-46d7-bc1f-51126fd1fa98",
   "metadata": {},
   "outputs": [],
   "source": []
  }
 ],
 "metadata": {
  "kernelspec": {
   "display_name": "Python 3 (ipykernel)",
   "language": "python",
   "name": "python3"
  },
  "language_info": {
   "codemirror_mode": {
    "name": "ipython",
    "version": 3
   },
   "file_extension": ".py",
   "mimetype": "text/x-python",
   "name": "python",
   "nbconvert_exporter": "python",
   "pygments_lexer": "ipython3",
   "version": "3.10.12"
  }
 },
 "nbformat": 4,
 "nbformat_minor": 5
}

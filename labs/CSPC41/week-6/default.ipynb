{
 "cells": [
  {
   "cell_type": "markdown",
   "id": "5c28e176-fd20-45dd-bc97-7950b866613f",
   "metadata": {},
   "source": [
    "# Week 6 -  13th Sep, 2023\n",
    "\n",
    "## 6.1\n",
    "Use the csv/xls file assigned to you, and Report correlation of all input features with the output variable (Y). If features are more than one, report the features correlated at a cutoff of 0.6."
   ]
  },
  {
   "cell_type": "code",
   "execution_count": 2,
   "id": "eaf910ff-ae1f-4fa5-b72b-68ff3a286413",
   "metadata": {},
   "outputs": [
    {
     "data": {
      "text/html": [
       "<div>\n",
       "<style scoped>\n",
       "    .dataframe tbody tr th:only-of-type {\n",
       "        vertical-align: middle;\n",
       "    }\n",
       "\n",
       "    .dataframe tbody tr th {\n",
       "        vertical-align: top;\n",
       "    }\n",
       "\n",
       "    .dataframe thead th {\n",
       "        text-align: right;\n",
       "    }\n",
       "</style>\n",
       "<table border=\"1\" class=\"dataframe\">\n",
       "  <thead>\n",
       "    <tr style=\"text-align: right;\">\n",
       "      <th></th>\n",
       "      <th>Cust_no</th>\n",
       "      <th>Ec-products</th>\n",
       "      <th>Stationary</th>\n",
       "      <th>fashion_prod</th>\n",
       "      <th>other_shopping</th>\n",
       "      <th>Savings</th>\n",
       "    </tr>\n",
       "  </thead>\n",
       "  <tbody>\n",
       "    <tr>\n",
       "      <th>0</th>\n",
       "      <td>1</td>\n",
       "      <td>0.9</td>\n",
       "      <td>3.010</td>\n",
       "      <td>9.10</td>\n",
       "      <td>11.1</td>\n",
       "      <td>-2.00</td>\n",
       "    </tr>\n",
       "    <tr>\n",
       "      <th>1</th>\n",
       "      <td>2</td>\n",
       "      <td>5.5</td>\n",
       "      <td>7.023</td>\n",
       "      <td>0.23</td>\n",
       "      <td>9.5</td>\n",
       "      <td>-9.27</td>\n",
       "    </tr>\n",
       "    <tr>\n",
       "      <th>2</th>\n",
       "      <td>3</td>\n",
       "      <td>3.3</td>\n",
       "      <td>3.822</td>\n",
       "      <td>1.92</td>\n",
       "      <td>0.0</td>\n",
       "      <td>1.92</td>\n",
       "    </tr>\n",
       "    <tr>\n",
       "      <th>3</th>\n",
       "      <td>4</td>\n",
       "      <td>0.2</td>\n",
       "      <td>3.310</td>\n",
       "      <td>18.20</td>\n",
       "      <td>12.7</td>\n",
       "      <td>5.50</td>\n",
       "    </tr>\n",
       "    <tr>\n",
       "      <th>4</th>\n",
       "      <td>5</td>\n",
       "      <td>1.5</td>\n",
       "      <td>2.112</td>\n",
       "      <td>0.10</td>\n",
       "      <td>6.5</td>\n",
       "      <td>-8.38</td>\n",
       "    </tr>\n",
       "  </tbody>\n",
       "</table>\n",
       "</div>"
      ],
      "text/plain": [
       "   Cust_no  Ec-products  Stationary  fashion_prod  other_shopping  Savings\n",
       "0        1          0.9       3.010          9.10            11.1    -2.00\n",
       "1        2          5.5       7.023          0.23             9.5    -9.27\n",
       "2        3          3.3       3.822          1.92             0.0     1.92\n",
       "3        4          0.2       3.310         18.20            12.7     5.50\n",
       "4        5          1.5       2.112          0.10             6.5    -8.38"
      ]
     },
     "execution_count": 2,
     "metadata": {},
     "output_type": "execute_result"
    }
   ],
   "source": [
    "import pandas as pd\n",
    "\n",
    "input_df = pd.read_csv('../pca-datasets/cust2.csv')\n",
    "input_df.head(5)"
   ]
  },
  {
   "cell_type": "code",
   "execution_count": 3,
   "id": "2ad866b1-2e4d-4d96-a7a8-008c44d7f348",
   "metadata": {},
   "outputs": [],
   "source": [
    "filtered_df = input_df.drop(['Cust_no'], axis=1)"
   ]
  },
  {
   "cell_type": "code",
   "execution_count": 4,
   "id": "5039da2a-b07f-4249-b259-dcc86e8492a7",
   "metadata": {},
   "outputs": [
    {
     "data": {
      "text/html": [
       "<div>\n",
       "<style scoped>\n",
       "    .dataframe tbody tr th:only-of-type {\n",
       "        vertical-align: middle;\n",
       "    }\n",
       "\n",
       "    .dataframe tbody tr th {\n",
       "        vertical-align: top;\n",
       "    }\n",
       "\n",
       "    .dataframe thead th {\n",
       "        text-align: right;\n",
       "    }\n",
       "</style>\n",
       "<table border=\"1\" class=\"dataframe\">\n",
       "  <thead>\n",
       "    <tr style=\"text-align: right;\">\n",
       "      <th></th>\n",
       "      <th>Ec-products</th>\n",
       "      <th>Stationary</th>\n",
       "      <th>fashion_prod</th>\n",
       "      <th>other_shopping</th>\n",
       "      <th>Savings</th>\n",
       "    </tr>\n",
       "  </thead>\n",
       "  <tbody>\n",
       "    <tr>\n",
       "      <th>Ec-products</th>\n",
       "      <td>1.000000</td>\n",
       "      <td>0.820644</td>\n",
       "      <td>-0.479381</td>\n",
       "      <td>0.227550</td>\n",
       "      <td>-0.546897</td>\n",
       "    </tr>\n",
       "    <tr>\n",
       "      <th>Stationary</th>\n",
       "      <td>0.820644</td>\n",
       "      <td>1.000000</td>\n",
       "      <td>0.029120</td>\n",
       "      <td>0.542267</td>\n",
       "      <td>-0.328027</td>\n",
       "    </tr>\n",
       "    <tr>\n",
       "      <th>fashion_prod</th>\n",
       "      <td>-0.479381</td>\n",
       "      <td>0.029120</td>\n",
       "      <td>1.000000</td>\n",
       "      <td>0.032551</td>\n",
       "      <td>0.762771</td>\n",
       "    </tr>\n",
       "    <tr>\n",
       "      <th>other_shopping</th>\n",
       "      <td>0.227550</td>\n",
       "      <td>0.542267</td>\n",
       "      <td>0.032551</td>\n",
       "      <td>1.000000</td>\n",
       "      <td>-0.599765</td>\n",
       "    </tr>\n",
       "    <tr>\n",
       "      <th>Savings</th>\n",
       "      <td>-0.546897</td>\n",
       "      <td>-0.328027</td>\n",
       "      <td>0.762771</td>\n",
       "      <td>-0.599765</td>\n",
       "      <td>1.000000</td>\n",
       "    </tr>\n",
       "  </tbody>\n",
       "</table>\n",
       "</div>"
      ],
      "text/plain": [
       "                Ec-products  Stationary  fashion_prod  other_shopping  \\\n",
       "Ec-products        1.000000    0.820644     -0.479381        0.227550   \n",
       "Stationary         0.820644    1.000000      0.029120        0.542267   \n",
       "fashion_prod      -0.479381    0.029120      1.000000        0.032551   \n",
       "other_shopping     0.227550    0.542267      0.032551        1.000000   \n",
       "Savings           -0.546897   -0.328027      0.762771       -0.599765   \n",
       "\n",
       "                 Savings  \n",
       "Ec-products    -0.546897  \n",
       "Stationary     -0.328027  \n",
       "fashion_prod    0.762771  \n",
       "other_shopping -0.599765  \n",
       "Savings         1.000000  "
      ]
     },
     "execution_count": 4,
     "metadata": {},
     "output_type": "execute_result"
    }
   ],
   "source": [
    "correlation_df = filtered_df.corr()\n",
    "correlation_df"
   ]
  },
  {
   "cell_type": "markdown",
   "id": "35d558cb-93a4-48eb-8d61-1b111f0247d7",
   "metadata": {},
   "source": [
    "Given the cutoff of 0.6, we see that only `fashion_prod` crosses 0.6."
   ]
  },
  {
   "cell_type": "markdown",
   "id": "5f9679ac-c9e1-4ede-b4dc-be445b7ad9c6",
   "metadata": {},
   "source": [
    "## 6.2\n",
    "\n",
    "Now Use the feature with the highest correlation as X, and build the Simple Linear regression (SLR) model for X vs Y. Display it’s coefficients, R-square value, and check its significance for alpha=0.1"
   ]
  },
  {
   "cell_type": "code",
   "execution_count": 5,
   "id": "d2669ca5-e6cc-492b-b9e4-1d5690b599a9",
   "metadata": {},
   "outputs": [],
   "source": [
    "X = input_df.fashion_prod\n",
    "Y = input_df.Savings"
   ]
  },
  {
   "cell_type": "markdown",
   "id": "a81b9ed1-3abf-4d5d-94e8-7683c52cf20f",
   "metadata": {},
   "source": [
    "To estimate the regression coefficient β₀, a constant term of 1 needs to be added as a separate column. As the value of the columns remains same across all samples, the parameter estimated for this feature or column will be the intercept term."
   ]
  },
  {
   "cell_type": "code",
   "execution_count": 6,
   "id": "50664876-a60f-4ca1-8c9d-4df6e5be3dc3",
   "metadata": {},
   "outputs": [
    {
     "data": {
      "text/html": [
       "<div>\n",
       "<style scoped>\n",
       "    .dataframe tbody tr th:only-of-type {\n",
       "        vertical-align: middle;\n",
       "    }\n",
       "\n",
       "    .dataframe tbody tr th {\n",
       "        vertical-align: top;\n",
       "    }\n",
       "\n",
       "    .dataframe thead th {\n",
       "        text-align: right;\n",
       "    }\n",
       "</style>\n",
       "<table border=\"1\" class=\"dataframe\">\n",
       "  <thead>\n",
       "    <tr style=\"text-align: right;\">\n",
       "      <th></th>\n",
       "      <th>const</th>\n",
       "      <th>fashion_prod</th>\n",
       "    </tr>\n",
       "  </thead>\n",
       "  <tbody>\n",
       "    <tr>\n",
       "      <th>0</th>\n",
       "      <td>1.0</td>\n",
       "      <td>9.10</td>\n",
       "    </tr>\n",
       "    <tr>\n",
       "      <th>1</th>\n",
       "      <td>1.0</td>\n",
       "      <td>0.23</td>\n",
       "    </tr>\n",
       "    <tr>\n",
       "      <th>2</th>\n",
       "      <td>1.0</td>\n",
       "      <td>1.92</td>\n",
       "    </tr>\n",
       "    <tr>\n",
       "      <th>3</th>\n",
       "      <td>1.0</td>\n",
       "      <td>18.20</td>\n",
       "    </tr>\n",
       "    <tr>\n",
       "      <th>4</th>\n",
       "      <td>1.0</td>\n",
       "      <td>0.10</td>\n",
       "    </tr>\n",
       "  </tbody>\n",
       "</table>\n",
       "</div>"
      ],
      "text/plain": [
       "   const  fashion_prod\n",
       "0    1.0          9.10\n",
       "1    1.0          0.23\n",
       "2    1.0          1.92\n",
       "3    1.0         18.20\n",
       "4    1.0          0.10"
      ]
     },
     "execution_count": 6,
     "metadata": {},
     "output_type": "execute_result"
    }
   ],
   "source": [
    "import statsmodels.api as sm\n",
    "X = sm.add_constant(X)\n",
    "X.head(5)"
   ]
  },
  {
   "cell_type": "markdown",
   "id": "c1bbe863-0ee2-4b98-8e31-b1561e948b90",
   "metadata": {},
   "source": [
    "Now, we split the dataset into training and testing datasets."
   ]
  },
  {
   "cell_type": "code",
   "execution_count": 7,
   "id": "131da76f-3e7b-4236-aca1-10fcc107a352",
   "metadata": {},
   "outputs": [],
   "source": [
    "from sklearn.model_selection import train_test_split\n",
    "\n",
    "train_X, test_X, train_Y, test_Y = train_test_split(X, Y, train_size=0.8, random_state=100)"
   ]
  },
  {
   "cell_type": "markdown",
   "id": "3454b052-d813-42bd-8f24-13e45733304b",
   "metadata": {},
   "source": [
    "`train_size` of 0.8 implies that 80% of the data is used for training the model and the remaining 20% is used for validating the model."
   ]
  },
  {
   "cell_type": "markdown",
   "id": "70b819ad-01bb-4872-bb6e-c4336b3a8fa7",
   "metadata": {},
   "source": [
    "### Fitting the model\n",
    "We will fit the model using OLS method and pass `train_Y` and `train_X` as parameters."
   ]
  },
  {
   "cell_type": "code",
   "execution_count": 8,
   "id": "e4381621-b276-4665-a18e-56d856de7fb5",
   "metadata": {},
   "outputs": [
    {
     "data": {
      "text/plain": [
       "const          -8.720007\n",
       "fashion_prod    1.057888\n",
       "dtype: float64"
      ]
     },
     "execution_count": 8,
     "metadata": {},
     "output_type": "execute_result"
    }
   ],
   "source": [
    "savings_slr = sm.OLS(train_Y, train_X).fit()\n",
    "savings_slr.params"
   ]
  },
  {
   "cell_type": "code",
   "execution_count": 9,
   "id": "8a6dee52-0482-495d-a55c-22487373d3aa",
   "metadata": {},
   "outputs": [
    {
     "data": {
      "text/html": [
       "<table class=\"simpletable\">\n",
       "<tr>\n",
       "        <td>Model:</td>               <td>OLS</td>         <td>Adj. R-squared:</td>     <td>0.563</td> \n",
       "</tr>\n",
       "<tr>\n",
       "  <td>Dependent Variable:</td>      <td>Savings</td>            <td>AIC:</td>         <td>185.2187</td>\n",
       "</tr>\n",
       "<tr>\n",
       "         <td>Date:</td>        <td>2023-09-20 11:07</td>        <td>BIC:</td>         <td>187.8831</td>\n",
       "</tr>\n",
       "<tr>\n",
       "   <td>No. Observations:</td>         <td>28</td>          <td>Log-Likelihood:</td>    <td>-90.609</td>\n",
       "</tr>\n",
       "<tr>\n",
       "       <td>Df Model:</td>              <td>1</td>           <td>F-statistic:</td>       <td>35.74</td> \n",
       "</tr>\n",
       "<tr>\n",
       "     <td>Df Residuals:</td>           <td>26</td>        <td>Prob (F-statistic):</td> <td>2.60e-06</td>\n",
       "</tr>\n",
       "<tr>\n",
       "      <td>R-squared:</td>            <td>0.579</td>            <td>Scale:</td>         <td>40.786</td> \n",
       "</tr>\n",
       "</table>\n",
       "<table class=\"simpletable\">\n",
       "<tr>\n",
       "        <td></td>        <th>Coef.</th>  <th>Std.Err.</th>    <th>t</th>     <th>P>|t|</th>  <th>[0.025</th>  <th>0.975]</th> \n",
       "</tr>\n",
       "<tr>\n",
       "  <th>const</th>        <td>-8.7200</td>  <td>1.8283</td>  <td>-4.7695</td> <td>0.0001</td> <td>-12.4781</td> <td>-4.9619</td>\n",
       "</tr>\n",
       "<tr>\n",
       "  <th>fashion_prod</th> <td>1.0579</td>   <td>0.1769</td>  <td>5.9787</td>  <td>0.0000</td>  <td>0.6942</td>  <td>1.4216</td> \n",
       "</tr>\n",
       "</table>\n",
       "<table class=\"simpletable\">\n",
       "<tr>\n",
       "     <td>Omnibus:</td>    <td>13.766</td>  <td>Durbin-Watson:</td>    <td>2.509</td>\n",
       "</tr>\n",
       "<tr>\n",
       "  <td>Prob(Omnibus):</td>  <td>0.001</td> <td>Jarque-Bera (JB):</td> <td>14.348</td>\n",
       "</tr>\n",
       "<tr>\n",
       "       <td>Skew:</td>     <td>-1.294</td>     <td>Prob(JB):</td>      <td>0.001</td>\n",
       "</tr>\n",
       "<tr>\n",
       "     <td>Kurtosis:</td>    <td>5.366</td>  <td>Condition No.:</td>     <td>16</td>  \n",
       "</tr>\n",
       "</table><br/>\n",
       "Notes:<br/>\n",
       "[1] Standard Errors assume that the covariance matrix of the errors is correctly specified."
      ],
      "text/latex": [
       "\\begin{table}\n",
       "\\caption{Results: Ordinary least squares}\n",
       "\\label{}\n",
       "\\begin{center}\n",
       "\\begin{tabular}{llll}\n",
       "\\hline\n",
       "Model:              & OLS              & Adj. R-squared:     & 0.563     \\\\\n",
       "Dependent Variable: & Savings          & AIC:                & 185.2187  \\\\\n",
       "Date:               & 2023-09-20 11:07 & BIC:                & 187.8831  \\\\\n",
       "No. Observations:   & 28               & Log-Likelihood:     & -90.609   \\\\\n",
       "Df Model:           & 1                & F-statistic:        & 35.74     \\\\\n",
       "Df Residuals:       & 26               & Prob (F-statistic): & 2.60e-06  \\\\\n",
       "R-squared:          & 0.579            & Scale:              & 40.786    \\\\\n",
       "\\hline\n",
       "\\end{tabular}\n",
       "\\end{center}\n",
       "\n",
       "\\begin{center}\n",
       "\\begin{tabular}{lrrrrrr}\n",
       "\\hline\n",
       "              &   Coef. & Std.Err. &       t & P$> |$t$|$ &   [0.025 &  0.975]  \\\\\n",
       "\\hline\n",
       "const         & -8.7200 &   1.8283 & -4.7695 &      0.0001 & -12.4781 & -4.9619  \\\\\n",
       "fashion\\_prod &  1.0579 &   0.1769 &  5.9787 &      0.0000 &   0.6942 &  1.4216  \\\\\n",
       "\\hline\n",
       "\\end{tabular}\n",
       "\\end{center}\n",
       "\n",
       "\\begin{center}\n",
       "\\begin{tabular}{llll}\n",
       "\\hline\n",
       "Omnibus:       & 13.766 & Durbin-Watson:    & 2.509   \\\\\n",
       "Prob(Omnibus): & 0.001  & Jarque-Bera (JB): & 14.348  \\\\\n",
       "Skew:          & -1.294 & Prob(JB):         & 0.001   \\\\\n",
       "Kurtosis:      & 5.366  & Condition No.:    & 16      \\\\\n",
       "\\hline\n",
       "\\end{tabular}\n",
       "\\end{center}\n",
       "\\end{table}\n",
       "\\bigskip\n",
       "Notes: \\newline \n",
       "[1] Standard Errors assume that the covariance matrix of the errors is correctly specified."
      ],
      "text/plain": [
       "<class 'statsmodels.iolib.summary2.Summary'>\n",
       "\"\"\"\n",
       "                 Results: Ordinary least squares\n",
       "=================================================================\n",
       "Model:              OLS              Adj. R-squared:     0.563   \n",
       "Dependent Variable: Savings          AIC:                185.2187\n",
       "Date:               2023-09-20 11:07 BIC:                187.8831\n",
       "No. Observations:   28               Log-Likelihood:     -90.609 \n",
       "Df Model:           1                F-statistic:        35.74   \n",
       "Df Residuals:       26               Prob (F-statistic): 2.60e-06\n",
       "R-squared:          0.579            Scale:              40.786  \n",
       "-----------------------------------------------------------------\n",
       "                  Coef.  Std.Err.    t    P>|t|   [0.025   0.975]\n",
       "-----------------------------------------------------------------\n",
       "const            -8.7200   1.8283 -4.7695 0.0001 -12.4781 -4.9619\n",
       "fashion_prod      1.0579   0.1769  5.9787 0.0000   0.6942  1.4216\n",
       "-----------------------------------------------------------------\n",
       "Omnibus:              13.766       Durbin-Watson:          2.509 \n",
       "Prob(Omnibus):        0.001        Jarque-Bera (JB):       14.348\n",
       "Skew:                 -1.294       Prob(JB):               0.001 \n",
       "Kurtosis:             5.366        Condition No.:          16    \n",
       "=================================================================\n",
       "Notes:\n",
       "[1] Standard Errors assume that the covariance matrix of the\n",
       "errors is correctly specified.\n",
       "\"\"\""
      ]
     },
     "execution_count": 9,
     "metadata": {},
     "output_type": "execute_result"
    }
   ],
   "source": [
    "savings_slr.summary2()"
   ]
  },
  {
   "cell_type": "markdown",
   "id": "539f5172-ba15-4d64-ab7b-2683c83823fd",
   "metadata": {},
   "source": [
    "We obsserve that the R-square value is `0.579` which implies that the model explains 57.9% of variance. The P-value for `fashion_prod` is `0.0000`, hence the significance crosses the alpha threshold."
   ]
  },
  {
   "cell_type": "markdown",
   "id": "66bd0444-7e94-4c99-9f79-76b53d9c7e8f",
   "metadata": {},
   "source": [
    "## 6.3\n",
    "\n",
    "Predict the output over the test data and compute the results’ R-square and MSE"
   ]
  },
  {
   "cell_type": "code",
   "execution_count": 10,
   "id": "5f97fcb0-2637-48b0-a70d-8b621e4f7fac",
   "metadata": {},
   "outputs": [
    {
     "data": {
      "text/plain": [
       "33   -3.536356\n",
       "34   -0.680059\n",
       "31   -8.085274\n",
       "5    -2.055313\n",
       "1    -8.476692\n",
       "13   -6.022393\n",
       "18   -6.604231\n",
       "dtype: float64"
      ]
     },
     "execution_count": 10,
     "metadata": {},
     "output_type": "execute_result"
    }
   ],
   "source": [
    "pred_Y = savings_slr.predict(test_X)\n",
    "pred_Y"
   ]
  },
  {
   "cell_type": "code",
   "execution_count": 11,
   "id": "136f94f9-a759-4483-afa5-cf748a34a957",
   "metadata": {},
   "outputs": [
    {
     "name": "stdout",
     "output_type": "stream",
     "text": [
      "R-square value: 0.4128\n",
      "MSE: 12.8089\n"
     ]
    }
   ],
   "source": [
    "import numpy as np\n",
    "from sklearn.metrics import r2_score, mean_squared_error\n",
    "\n",
    "r2 = np.abs(r2_score(test_Y, pred_Y))\n",
    "mse = mean_squared_error(test_Y, pred_Y)\n",
    "\n",
    "print(f\"R-square value: {round(r2, 4)}\")\n",
    "print(f\"MSE: {round(mse, 4)}\")"
   ]
  },
  {
   "cell_type": "markdown",
   "id": "fe336697-e51b-44cb-ab3b-cc41f7b1fbc7",
   "metadata": {},
   "source": [
    "## 6.4\n",
    "\n",
    "Find its outliers. Analyze whether outlier(s) detected by z-score, Cook and Leverage method are same or not? If no outliers are present in your data, modify the datafile and do the analysis."
   ]
  },
  {
   "cell_type": "markdown",
   "id": "483babc3-6338-4479-b513-322ffabf321f",
   "metadata": {},
   "source": [
    "### Finding outliers using the Z-score method"
   ]
  },
  {
   "cell_type": "code",
   "execution_count": 12,
   "id": "47b98801-03ea-4e0c-b0a9-7c1f47f0e18e",
   "metadata": {},
   "outputs": [
    {
     "data": {
      "text/html": [
       "<div>\n",
       "<style scoped>\n",
       "    .dataframe tbody tr th:only-of-type {\n",
       "        vertical-align: middle;\n",
       "    }\n",
       "\n",
       "    .dataframe tbody tr th {\n",
       "        vertical-align: top;\n",
       "    }\n",
       "\n",
       "    .dataframe thead th {\n",
       "        text-align: right;\n",
       "    }\n",
       "</style>\n",
       "<table border=\"1\" class=\"dataframe\">\n",
       "  <thead>\n",
       "    <tr style=\"text-align: right;\">\n",
       "      <th></th>\n",
       "      <th>Ec-products</th>\n",
       "      <th>Stationary</th>\n",
       "      <th>fashion_prod</th>\n",
       "      <th>other_shopping</th>\n",
       "      <th>Savings</th>\n",
       "      <th>savings_z_score</th>\n",
       "    </tr>\n",
       "  </thead>\n",
       "  <tbody>\n",
       "    <tr>\n",
       "      <th>21</th>\n",
       "      <td>4.4</td>\n",
       "      <td>5.85</td>\n",
       "      <td>0.4</td>\n",
       "      <td>19.6</td>\n",
       "      <td>-29.1</td>\n",
       "      <td>-3.143628</td>\n",
       "    </tr>\n",
       "  </tbody>\n",
       "</table>\n",
       "</div>"
      ],
      "text/plain": [
       "    Ec-products  Stationary  fashion_prod  other_shopping  Savings  \\\n",
       "21          4.4        5.85           0.4            19.6    -29.1   \n",
       "\n",
       "    savings_z_score  \n",
       "21        -3.143628  "
      ]
     },
     "execution_count": 12,
     "metadata": {},
     "output_type": "execute_result"
    }
   ],
   "source": [
    "from scipy.stats import zscore\n",
    "\n",
    "savings_df = filtered_df\n",
    "savings_df['savings_z_score'] = zscore(input_df.Savings)\n",
    "savings_df[(savings_df.savings_z_score > 3.0) | (savings_df.savings_z_score < -3.0)]"
   ]
  },
  {
   "cell_type": "markdown",
   "id": "6e6d8143-9b83-46a2-adfe-23e9d8226c6c",
   "metadata": {},
   "source": [
    "As seen above, we observe one outlier using the z-score method"
   ]
  },
  {
   "cell_type": "markdown",
   "id": "42db1700-1d45-4a5e-b351-a4b6d6ed81df",
   "metadata": {},
   "source": [
    "### Finding outliers using Cook's distance"
   ]
  },
  {
   "cell_type": "code",
   "execution_count": 14,
   "id": "f30889b0-0a0d-45a1-bb14-27af7fac3b96",
   "metadata": {},
   "outputs": [
    {
     "data": {
      "text/plain": [
       "Text(0, 0.5, \"Cook's distance\")"
      ]
     },
     "execution_count": 14,
     "metadata": {},
     "output_type": "execute_result"
    },
    {
     "data": {
      "image/png": "[encoded data removed]",
      "text/plain": [
       "<Figure size 640x480 with 1 Axes>"
      ]
     },
     "metadata": {},
     "output_type": "display_data"
    }
   ],
   "source": [
    "savings_slr = sm.OLS(train_Y, train_X).fit()\n",
    "savings_influence = savings_slr.get_influence()\n",
    "cooks_distances, p_values = savings_influence.cooks_distance\n",
    "\n",
    "import matplotlib.pyplot as plt\n",
    "\n",
    "plt.stem(np.arange(len(train_X)), cooks_distances, markerfmt=',')\n",
    "plt.title(\"Cook's distance for all observations\")\n",
    "plt.xlabel('Row index')\n",
    "plt.ylabel(\"Cook's distance\")"
   ]
  },
  {
   "cell_type": "code",
   "execution_count": 15,
   "id": "f645788b-9708-4dee-9717-467ace99873b",
   "metadata": {},
   "outputs": [
    {
     "data": {
      "text/plain": [
       "Text(0, 0.5, \"Cook's distance\")"
      ]
     },
     "execution_count": 15,
     "metadata": {},
     "output_type": "execute_result"
    },
    {
     "data": {
      "image/png": "[encoded data removed]",
      "text/plain": [
       "<Figure size 640x480 with 1 Axes>"
      ]
     },
     "metadata": {},
     "output_type": "display_data"
    }
   ],
   "source": [
    "test_slr = sm.OLS(Y, X).fit()\n",
    "savings_influence = test_slr.get_influence()\n",
    "cooks_distances, p_values = savings_influence.cooks_distance\n",
    "\n",
    "import matplotlib.pyplot as plt\n",
    "\n",
    "plt.stem(np.arange(len(X)), cooks_distances, markerfmt=',')\n",
    "plt.title(\"Cook's distance for all observations\")\n",
    "plt.xlabel('Row index')\n",
    "plt.ylabel(\"Cook's distance\")"
   ]
  },
  {
   "cell_type": "markdown",
   "id": "c557951d-7b1d-48b3-9efb-680dcebd38f2",
   "metadata": {},
   "source": [
    "As seen above, we do NOT observe any outliers through this method. We need to change the threshold to better view the outlier(s)."
   ]
  },
  {
   "cell_type": "markdown",
   "id": "96b8ce49-33ea-41d9-aa9f-790895f3e2a1",
   "metadata": {},
   "source": [
    "### Finding outliers using Leverage method"
   ]
  },
  {
   "cell_type": "code",
   "execution_count": 16,
   "id": "136ab045-8501-4c71-b74c-cec7e85ba3e3",
   "metadata": {},
   "outputs": [
    {
     "data": {
      "image/png": "[encoded data removed]",
      "text/plain": [
       "<Figure size 1000x1000 with 1 Axes>"
      ]
     },
     "metadata": {},
     "output_type": "display_data"
    }
   ],
   "source": [
    "from statsmodels.graphics.regressionplots import influence_plot\n",
    "\n",
    "fig, ax = plt.subplots(figsize=(10,10))\n",
    "influence_plot(savings_slr, ax = ax)\n",
    "plt.title(\"leverage value for Residuals\")\n",
    "plt.show()"
   ]
  },
  {
   "cell_type": "markdown",
   "id": "1bd21a8f-4c35-493a-ab29-0c13ac83f525",
   "metadata": {},
   "source": [
    "As seen above, we observe one outlier using the leverage method; which is the same as we saw using the z-score method."
   ]
  }
 ],
 "metadata": {
  "kernelspec": {
   "display_name": "Python 3 (ipykernel)",
   "language": "python",
   "name": "python3"
  },
  "language_info": {
   "codemirror_mode": {
    "name": "ipython",
    "version": 3
   },
   "file_extension": ".py",
   "mimetype": "text/x-python",
   "name": "python",
   "nbconvert_exporter": "python",
   "pygments_lexer": "ipython3",
   "version": "3.10.12"
  }
 },
 "nbformat": 4,
 "nbformat_minor": 5
}
